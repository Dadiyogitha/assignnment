{
 "cells": [
  {
   "cell_type": "code",
   "execution_count": 1,
   "id": "b1696b01",
   "metadata": {
    "ExecuteTime": {
     "end_time": "2023-02-16T19:19:10.807399Z",
     "start_time": "2023-02-16T19:19:10.782268Z"
    }
   },
   "outputs": [
    {
     "ename": "SyntaxError",
     "evalue": "invalid syntax (Temp/ipykernel_15040/1879609533.py, line 8)",
     "output_type": "error",
     "traceback": [
      "\u001b[1;36m  File \u001b[1;32m\"C:\\Users\\DYOGIT~1\\AppData\\Local\\Temp/ipykernel_15040/1879609533.py\"\u001b[1;36m, line \u001b[1;32m8\u001b[0m\n\u001b[1;33m    from sklearn.tree\u001b[0m\n\u001b[1;37m                      ^\u001b[0m\n\u001b[1;31mSyntaxError\u001b[0m\u001b[1;31m:\u001b[0m invalid syntax\n"
     ]
    }
   ],
   "source": [
    "import pandas as pd\n",
    "import matplotlib.pyplot as plt\n",
    "import seaborn as sns\n",
    "import numpy as np\n",
    "from sklearn.model_selection import KFold\n",
    "from sklearn.model_selection import cross_val_score\n",
    "from sklearn.ensemble import BaggingClassifier\n",
    "from sklearn.tree import DecisionTreeClassifier\n",
    "from sklearn.ensemble import RandomForestClassifier\n",
    "from sklearn.ensemble import AdaBoostClassifier\n",
    "from sklearn.linear_model import LogisticRegression\n",
    "from sklearn.svm import SVC\n",
    "from sklearn.ensemble import VotingClassifier\n",
    "from sklearn import preprocessing"
   ]
  },
  {
   "cell_type": "code",
   "execution_count": 2,
   "id": "1926e3dc",
   "metadata": {
    "ExecuteTime": {
     "end_time": "2023-02-16T19:19:11.430944Z",
     "start_time": "2023-02-16T19:19:11.265576Z"
    }
   },
   "outputs": [
    {
     "ename": "NameError",
     "evalue": "name 'pd' is not defined",
     "output_type": "error",
     "traceback": [
      "\u001b[1;31m---------------------------------------------------------------------------\u001b[0m",
      "\u001b[1;31mNameError\u001b[0m                                 Traceback (most recent call last)",
      "\u001b[1;32mC:\\Users\\DYOGIT~1\\AppData\\Local\\Temp/ipykernel_15040/3689411229.py\u001b[0m in \u001b[0;36m<module>\u001b[1;34m\u001b[0m\n\u001b[1;32m----> 1\u001b[1;33m \u001b[0mdata\u001b[0m\u001b[1;33m=\u001b[0m\u001b[0mpd\u001b[0m\u001b[1;33m.\u001b[0m\u001b[0mread_csv\u001b[0m\u001b[1;33m(\u001b[0m\u001b[1;34m'Fraud_check.csv'\u001b[0m\u001b[1;33m)\u001b[0m\u001b[1;33m\u001b[0m\u001b[1;33m\u001b[0m\u001b[0m\n\u001b[0m\u001b[0;32m      2\u001b[0m \u001b[0mdata\u001b[0m\u001b[1;33m\u001b[0m\u001b[1;33m\u001b[0m\u001b[0m\n",
      "\u001b[1;31mNameError\u001b[0m: name 'pd' is not defined"
     ]
    }
   ],
   "source": [
    "data=pd.read_csv('Fraud_check.csv')\n",
    "data"
   ]
  },
  {
   "cell_type": "code",
   "execution_count": null,
   "id": "68b4aa0f",
   "metadata": {
    "ExecuteTime": {
     "end_time": "2023-02-16T19:14:47.357369Z",
     "start_time": "2023-02-16T19:14:47.341372Z"
    }
   },
   "outputs": [],
   "source": [
    "data.info()"
   ]
  },
  {
   "cell_type": "code",
   "execution_count": null,
   "id": "65a7158d",
   "metadata": {
    "ExecuteTime": {
     "end_time": "2023-02-16T19:14:55.806264Z",
     "start_time": "2023-02-16T19:14:54.626131Z"
    }
   },
   "outputs": [],
   "source": [
    "sns.pairplot(data)"
   ]
  },
  {
   "cell_type": "code",
   "execution_count": null,
   "id": "837ae0d5",
   "metadata": {
    "ExecuteTime": {
     "end_time": "2023-02-16T19:15:24.155115Z",
     "start_time": "2023-02-16T19:15:23.960211Z"
    }
   },
   "outputs": [],
   "source": [
    "sns.heatmap(data.isnull(),cmap='YlOrRd_r')"
   ]
  },
  {
   "cell_type": "code",
   "execution_count": null,
   "id": "334715cf",
   "metadata": {
    "ExecuteTime": {
     "end_time": "2023-02-16T19:15:36.845850Z",
     "start_time": "2023-02-16T19:15:36.675564Z"
    }
   },
   "outputs": [],
   "source": [
    "plt.figure(figsize=(20,10))\n",
    "sns.heatmap(data.corr(),annot=True)"
   ]
  },
  {
   "cell_type": "code",
   "execution_count": null,
   "id": "061dabf3",
   "metadata": {
    "ExecuteTime": {
     "end_time": "2023-02-16T19:15:45.544811Z",
     "start_time": "2023-02-16T19:15:45.528939Z"
    }
   },
   "outputs": [],
   "source": [
    "label_encoder = preprocessing.LabelEncoder()\n",
    "data['Undergrad']= label_encoder.fit_transform(data['Undergrad'])\n",
    "data['Urban']= label_encoder.fit_transform(data['Urban'])\n",
    "data['Marital.Status']= label_encoder.fit_transform(data['Marital.Status'])"
   ]
  },
  {
   "cell_type": "code",
   "execution_count": null,
   "id": "e656f55c",
   "metadata": {
    "ExecuteTime": {
     "end_time": "2023-02-16T19:15:51.684941Z",
     "start_time": "2023-02-16T19:15:51.652820Z"
    }
   },
   "outputs": [],
   "source": [
    "data"
   ]
  },
  {
   "cell_type": "code",
   "execution_count": null,
   "id": "8c5925e3",
   "metadata": {
    "ExecuteTime": {
     "end_time": "2023-02-16T19:16:07.520558Z",
     "start_time": "2023-02-16T19:16:07.512469Z"
    }
   },
   "outputs": [],
   "source": [
    "data['Status'] = data['Taxable.Income'].apply(lambda Income: 'Risky' if Income <= 30000 else 'Good')"
   ]
  },
  {
   "cell_type": "code",
   "execution_count": null,
   "id": "c0f4ad09",
   "metadata": {
    "ExecuteTime": {
     "end_time": "2023-02-16T19:16:14.493167Z",
     "start_time": "2023-02-16T19:16:14.468859Z"
    }
   },
   "outputs": [],
   "source": [
    "data"
   ]
  },
  {
   "cell_type": "code",
   "execution_count": null,
   "id": "2af1ca03",
   "metadata": {
    "ExecuteTime": {
     "end_time": "2023-02-16T19:16:31.769568Z",
     "start_time": "2023-02-16T19:16:31.761558Z"
    }
   },
   "outputs": [],
   "source": [
    "data['Status']= label_encoder.fit_transform(data['Status'])"
   ]
  },
  {
   "cell_type": "code",
   "execution_count": null,
   "id": "65096f31",
   "metadata": {
    "ExecuteTime": {
     "end_time": "2023-02-16T19:16:38.585737Z",
     "start_time": "2023-02-16T19:16:38.561820Z"
    }
   },
   "outputs": [],
   "source": [
    "data"
   ]
  },
  {
   "cell_type": "code",
   "execution_count": null,
   "id": "35d7707a",
   "metadata": {
    "ExecuteTime": {
     "end_time": "2023-02-16T19:16:46.174011Z",
     "start_time": "2023-02-16T19:16:46.158017Z"
    }
   },
   "outputs": [],
   "source": [
    "data.Status.unique()"
   ]
  },
  {
   "cell_type": "code",
   "execution_count": null,
   "id": "56b88fcd",
   "metadata": {
    "ExecuteTime": {
     "end_time": "2023-02-16T19:16:53.150606Z",
     "start_time": "2023-02-16T19:16:53.134453Z"
    }
   },
   "outputs": [],
   "source": [
    "x=data.iloc[:,0:4]\n",
    "y=data['Status']"
   ]
  },
  {
   "cell_type": "markdown",
   "id": "ff0a75b7",
   "metadata": {
    "ExecuteTime": {
     "end_time": "2023-02-16T19:16:59.758926Z",
     "start_time": "2023-02-16T19:16:59.742778Z"
    }
   },
   "source": [
    "## Bagged Decision Trees for Classification"
   ]
  },
  {
   "cell_type": "code",
   "execution_count": null,
   "id": "94ae621f",
   "metadata": {
    "ExecuteTime": {
     "end_time": "2023-02-16T19:17:14.564287Z",
     "start_time": "2023-02-16T19:17:14.208311Z"
    }
   },
   "outputs": [],
   "source": [
    "num_trees = 100\n",
    "seed=8\n",
    "kfold = KFold(n_splits=100, shuffle = True, random_state=seed)\n",
    "model = AdaBoostClassifier(n_estimators=num_trees, random_state=seed)\n",
    "results = cross_val_score(model, x,y, cv=kfold)\n",
    "print(results.mean())"
   ]
  },
  {
   "cell_type": "markdown",
   "id": "02969a3a",
   "metadata": {},
   "source": [
    "## Stacking Ensemble for Classification"
   ]
  },
  {
   "cell_type": "code",
   "execution_count": null,
   "id": "893505a5",
   "metadata": {
    "ExecuteTime": {
     "end_time": "2023-02-16T19:17:33.238028Z",
     "start_time": "2023-02-16T19:17:33.026320Z"
    }
   },
   "outputs": [],
   "source": [
    "kfold = KFold(n_splits=10,shuffle=True, random_state=8)\n",
    "estimators = []\n",
    " # create the sub models\n",
    "model1 = LogisticRegression(max_iter=100)                        \n",
    "estimators.append(('logistic', model1))\n",
    "model2 = DecisionTreeClassifier()\n",
    "estimators.append(('cart', model2))\n",
    "model3 = SVC()\n",
    "estimators.append(('svm', model3))\n",
    "# create the ensemble model\n",
    "ensemble = VotingClassifier(estimators)                           \n",
    "results = cross_val_score(ensemble, x, y, cv=kfold)\n",
    "print(results.mean())"
   ]
  },
  {
   "cell_type": "markdown",
   "id": "46c7824c",
   "metadata": {},
   "source": [
    "## Random Forest Classification"
   ]
  },
  {
   "cell_type": "code",
   "execution_count": null,
   "id": "51235adc",
   "metadata": {
    "ExecuteTime": {
     "end_time": "2023-02-16T19:17:51.639931Z",
     "start_time": "2023-02-16T19:17:50.446370Z"
    }
   },
   "outputs": [],
   "source": [
    "num_trees = 100\n",
    "max_features = 3\n",
    "kfold = KFold(n_splits=10, shuffle= True ,random_state=8)\n",
    "model = RandomForestClassifier(n_estimators=num_trees, max_features=max_features)\n",
    "results = cross_val_score(model, x, y, cv=kfold)\n",
    "print(results.mean())"
   ]
  },
  {
   "cell_type": "markdown",
   "id": "8ab38e30",
   "metadata": {},
   "source": [
    "## AdaBoost Classification"
   ]
  },
  {
   "cell_type": "code",
   "execution_count": null,
   "id": "e552a5b8",
   "metadata": {
    "ExecuteTime": {
     "end_time": "2023-02-16T19:18:13.569549Z",
     "start_time": "2023-02-16T19:18:13.225022Z"
    }
   },
   "outputs": [],
   "source": [
    "num_trees = 100\n",
    "seed=8\n",
    "kfold = KFold(n_splits=100, shuffle = True, random_state=seed)\n",
    "model = AdaBoostClassifier(n_estimators=num_trees, random_state=seed)\n",
    "results = cross_val_score(model, x,y, cv=kfold)\n",
    "print(results.mean())"
   ]
  },
  {
   "cell_type": "code",
   "execution_count": null,
   "id": "2d89c349",
   "metadata": {},
   "outputs": [],
   "source": []
  }
 ],
 "metadata": {
  "kernelspec": {
   "display_name": "Python 3 (ipykernel)",
   "language": "python",
   "name": "python3"
  },
  "language_info": {
   "codemirror_mode": {
    "name": "ipython",
    "version": 3
   },
   "file_extension": ".py",
   "mimetype": "text/x-python",
   "name": "python",
   "nbconvert_exporter": "python",
   "pygments_lexer": "ipython3",
   "version": "3.9.7"
  }
 },
 "nbformat": 4,
 "nbformat_minor": 5
}
