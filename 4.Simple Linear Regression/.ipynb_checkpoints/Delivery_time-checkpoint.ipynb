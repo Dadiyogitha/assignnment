{
 "cells": [
  {
   "cell_type": "code",
   "execution_count": 15,
   "id": "2a05ac86",
   "metadata": {
    "ExecuteTime": {
     "end_time": "2023-02-08T11:35:24.561242Z",
     "start_time": "2023-02-08T11:35:24.537238Z"
    }
   },
   "outputs": [],
   "source": [
    "import pandas as pd\n",
    "import numpy as np\n",
    "import matplotlib.pyplot as plt\n",
    "dt=pd.read_csv(\"delivery_time.csv\")\n",
    "dt\n",
    "pd.set_option('display.min_rows',None)"
   ]
  },
  {
   "cell_type": "code",
   "execution_count": 16,
   "id": "0dbde44a",
   "metadata": {
    "ExecuteTime": {
     "end_time": "2023-02-08T11:35:24.728476Z",
     "start_time": "2023-02-08T11:35:24.561242Z"
    }
   },
   "outputs": [
    {
     "data": {
      "text/plain": [
       "(21, 2)"
      ]
     },
     "execution_count": 16,
     "metadata": {},
     "output_type": "execute_result"
    }
   ],
   "source": [
    "dt.shape"
   ]
  },
  {
   "cell_type": "code",
   "execution_count": 17,
   "id": "807deb0c",
   "metadata": {
    "ExecuteTime": {
     "end_time": "2023-02-08T11:35:24.828892Z",
     "start_time": "2023-02-08T11:35:24.728768Z"
    }
   },
   "outputs": [
    {
     "data": {
      "text/html": [
       "<div>\n",
       "<style scoped>\n",
       "    .dataframe tbody tr th:only-of-type {\n",
       "        vertical-align: middle;\n",
       "    }\n",
       "\n",
       "    .dataframe tbody tr th {\n",
       "        vertical-align: top;\n",
       "    }\n",
       "\n",
       "    .dataframe thead th {\n",
       "        text-align: right;\n",
       "    }\n",
       "</style>\n",
       "<table border=\"1\" class=\"dataframe\">\n",
       "  <thead>\n",
       "    <tr style=\"text-align: right;\">\n",
       "      <th></th>\n",
       "      <th>Delivery_Time</th>\n",
       "      <th>Sorting _Time</th>\n",
       "    </tr>\n",
       "  </thead>\n",
       "  <tbody>\n",
       "    <tr>\n",
       "      <th>0</th>\n",
       "      <td>21.00</td>\n",
       "      <td>10</td>\n",
       "    </tr>\n",
       "    <tr>\n",
       "      <th>1</th>\n",
       "      <td>13.50</td>\n",
       "      <td>4</td>\n",
       "    </tr>\n",
       "    <tr>\n",
       "      <th>2</th>\n",
       "      <td>19.75</td>\n",
       "      <td>6</td>\n",
       "    </tr>\n",
       "    <tr>\n",
       "      <th>3</th>\n",
       "      <td>24.00</td>\n",
       "      <td>9</td>\n",
       "    </tr>\n",
       "    <tr>\n",
       "      <th>4</th>\n",
       "      <td>29.00</td>\n",
       "      <td>10</td>\n",
       "    </tr>\n",
       "    <tr>\n",
       "      <th>5</th>\n",
       "      <td>15.35</td>\n",
       "      <td>6</td>\n",
       "    </tr>\n",
       "    <tr>\n",
       "      <th>6</th>\n",
       "      <td>19.00</td>\n",
       "      <td>7</td>\n",
       "    </tr>\n",
       "    <tr>\n",
       "      <th>7</th>\n",
       "      <td>9.50</td>\n",
       "      <td>3</td>\n",
       "    </tr>\n",
       "    <tr>\n",
       "      <th>8</th>\n",
       "      <td>17.90</td>\n",
       "      <td>10</td>\n",
       "    </tr>\n",
       "    <tr>\n",
       "      <th>9</th>\n",
       "      <td>18.75</td>\n",
       "      <td>9</td>\n",
       "    </tr>\n",
       "    <tr>\n",
       "      <th>10</th>\n",
       "      <td>19.83</td>\n",
       "      <td>8</td>\n",
       "    </tr>\n",
       "    <tr>\n",
       "      <th>11</th>\n",
       "      <td>10.75</td>\n",
       "      <td>4</td>\n",
       "    </tr>\n",
       "    <tr>\n",
       "      <th>12</th>\n",
       "      <td>16.68</td>\n",
       "      <td>7</td>\n",
       "    </tr>\n",
       "    <tr>\n",
       "      <th>13</th>\n",
       "      <td>11.50</td>\n",
       "      <td>3</td>\n",
       "    </tr>\n",
       "    <tr>\n",
       "      <th>14</th>\n",
       "      <td>12.03</td>\n",
       "      <td>3</td>\n",
       "    </tr>\n",
       "    <tr>\n",
       "      <th>15</th>\n",
       "      <td>14.88</td>\n",
       "      <td>4</td>\n",
       "    </tr>\n",
       "    <tr>\n",
       "      <th>16</th>\n",
       "      <td>13.75</td>\n",
       "      <td>6</td>\n",
       "    </tr>\n",
       "    <tr>\n",
       "      <th>17</th>\n",
       "      <td>18.11</td>\n",
       "      <td>7</td>\n",
       "    </tr>\n",
       "    <tr>\n",
       "      <th>18</th>\n",
       "      <td>8.00</td>\n",
       "      <td>2</td>\n",
       "    </tr>\n",
       "    <tr>\n",
       "      <th>19</th>\n",
       "      <td>17.83</td>\n",
       "      <td>7</td>\n",
       "    </tr>\n",
       "    <tr>\n",
       "      <th>20</th>\n",
       "      <td>21.50</td>\n",
       "      <td>5</td>\n",
       "    </tr>\n",
       "  </tbody>\n",
       "</table>\n",
       "</div>"
      ],
      "text/plain": [
       "    Delivery_Time  Sorting _Time\n",
       "0           21.00             10\n",
       "1           13.50              4\n",
       "2           19.75              6\n",
       "3           24.00              9\n",
       "4           29.00             10\n",
       "5           15.35              6\n",
       "6           19.00              7\n",
       "7            9.50              3\n",
       "8           17.90             10\n",
       "9           18.75              9\n",
       "10          19.83              8\n",
       "11          10.75              4\n",
       "12          16.68              7\n",
       "13          11.50              3\n",
       "14          12.03              3\n",
       "15          14.88              4\n",
       "16          13.75              6\n",
       "17          18.11              7\n",
       "18           8.00              2\n",
       "19          17.83              7\n",
       "20          21.50              5"
      ]
     },
     "execution_count": 17,
     "metadata": {},
     "output_type": "execute_result"
    }
   ],
   "source": [
    "dt"
   ]
  },
  {
   "cell_type": "code",
   "execution_count": 18,
   "id": "24fef642",
   "metadata": {
    "ExecuteTime": {
     "end_time": "2023-02-08T11:35:25.017106Z",
     "start_time": "2023-02-08T11:35:24.831300Z"
    }
   },
   "outputs": [
    {
     "data": {
      "text/html": [
       "<div>\n",
       "<style scoped>\n",
       "    .dataframe tbody tr th:only-of-type {\n",
       "        vertical-align: middle;\n",
       "    }\n",
       "\n",
       "    .dataframe tbody tr th {\n",
       "        vertical-align: top;\n",
       "    }\n",
       "\n",
       "    .dataframe thead th {\n",
       "        text-align: right;\n",
       "    }\n",
       "</style>\n",
       "<table border=\"1\" class=\"dataframe\">\n",
       "  <thead>\n",
       "    <tr style=\"text-align: right;\">\n",
       "      <th></th>\n",
       "      <th>Delivery_Time</th>\n",
       "      <th>Sorting _Time</th>\n",
       "    </tr>\n",
       "  </thead>\n",
       "  <tbody>\n",
       "    <tr>\n",
       "      <th>count</th>\n",
       "      <td>21.000000</td>\n",
       "      <td>21.000000</td>\n",
       "    </tr>\n",
       "    <tr>\n",
       "      <th>mean</th>\n",
       "      <td>16.790952</td>\n",
       "      <td>6.190476</td>\n",
       "    </tr>\n",
       "    <tr>\n",
       "      <th>std</th>\n",
       "      <td>5.074901</td>\n",
       "      <td>2.542028</td>\n",
       "    </tr>\n",
       "    <tr>\n",
       "      <th>min</th>\n",
       "      <td>8.000000</td>\n",
       "      <td>2.000000</td>\n",
       "    </tr>\n",
       "    <tr>\n",
       "      <th>25%</th>\n",
       "      <td>13.500000</td>\n",
       "      <td>4.000000</td>\n",
       "    </tr>\n",
       "    <tr>\n",
       "      <th>50%</th>\n",
       "      <td>17.830000</td>\n",
       "      <td>6.000000</td>\n",
       "    </tr>\n",
       "    <tr>\n",
       "      <th>75%</th>\n",
       "      <td>19.750000</td>\n",
       "      <td>8.000000</td>\n",
       "    </tr>\n",
       "    <tr>\n",
       "      <th>max</th>\n",
       "      <td>29.000000</td>\n",
       "      <td>10.000000</td>\n",
       "    </tr>\n",
       "  </tbody>\n",
       "</table>\n",
       "</div>"
      ],
      "text/plain": [
       "       Delivery_Time  Sorting _Time\n",
       "count      21.000000      21.000000\n",
       "mean       16.790952       6.190476\n",
       "std         5.074901       2.542028\n",
       "min         8.000000       2.000000\n",
       "25%        13.500000       4.000000\n",
       "50%        17.830000       6.000000\n",
       "75%        19.750000       8.000000\n",
       "max        29.000000      10.000000"
      ]
     },
     "execution_count": 18,
     "metadata": {},
     "output_type": "execute_result"
    }
   ],
   "source": [
    "dt.describe()"
   ]
  },
  {
   "cell_type": "code",
   "execution_count": 19,
   "id": "7c9f8d03",
   "metadata": {
    "ExecuteTime": {
     "end_time": "2023-02-08T11:35:25.185013Z",
     "start_time": "2023-02-08T11:35:25.017106Z"
    }
   },
   "outputs": [
    {
     "name": "stdout",
     "output_type": "stream",
     "text": [
      "<class 'pandas.core.frame.DataFrame'>\n",
      "RangeIndex: 21 entries, 0 to 20\n",
      "Data columns (total 2 columns):\n",
      " #   Column         Non-Null Count  Dtype  \n",
      "---  ------         --------------  -----  \n",
      " 0   Delivery_Time  21 non-null     float64\n",
      " 1   Sorting _Time  21 non-null     int64  \n",
      "dtypes: float64(1), int64(1)\n",
      "memory usage: 464.0 bytes\n"
     ]
    }
   ],
   "source": [
    "dt.info()"
   ]
  },
  {
   "cell_type": "code",
   "execution_count": 20,
   "id": "fe65cee3",
   "metadata": {
    "ExecuteTime": {
     "end_time": "2023-02-08T11:35:25.294924Z",
     "start_time": "2023-02-08T11:35:25.185013Z"
    }
   },
   "outputs": [
    {
     "data": {
      "text/plain": [
       "Index(['Delivery_Time', 'Sorting _Time'], dtype='object')"
      ]
     },
     "execution_count": 20,
     "metadata": {},
     "output_type": "execute_result"
    }
   ],
   "source": [
    "dt.columns"
   ]
  },
  {
   "cell_type": "code",
   "execution_count": 21,
   "id": "5dfdd85b",
   "metadata": {
    "ExecuteTime": {
     "end_time": "2023-02-08T11:35:25.491353Z",
     "start_time": "2023-02-08T11:35:25.295141Z"
    }
   },
   "outputs": [
    {
     "ename": "AttributeError",
     "evalue": "'DataFrame' object has no attribute 'Sorting_Time'",
     "output_type": "error",
     "traceback": [
      "\u001b[1;31m---------------------------------------------------------------------------\u001b[0m",
      "\u001b[1;31mAttributeError\u001b[0m                            Traceback (most recent call last)",
      "\u001b[1;32mC:\\Users\\DYOGIT~1\\AppData\\Local\\Temp/ipykernel_20880/403943303.py\u001b[0m in \u001b[0;36m<module>\u001b[1;34m\u001b[0m\n\u001b[1;32m----> 1\u001b[1;33m \u001b[0mplt\u001b[0m\u001b[1;33m.\u001b[0m\u001b[0mplot\u001b[0m\u001b[1;33m(\u001b[0m\u001b[0mdt\u001b[0m\u001b[1;33m.\u001b[0m\u001b[0mDelivery_Time\u001b[0m\u001b[1;33m,\u001b[0m\u001b[0mdt\u001b[0m\u001b[1;33m.\u001b[0m\u001b[0mSorting_Time\u001b[0m\u001b[1;33m,\u001b[0m\u001b[1;34m\"rs\"\u001b[0m\u001b[1;33m)\u001b[0m\u001b[1;33m\u001b[0m\u001b[1;33m\u001b[0m\u001b[0m\n\u001b[0m\u001b[0;32m      2\u001b[0m \u001b[0mplt\u001b[0m\u001b[1;33m.\u001b[0m\u001b[0mxlabel\u001b[0m\u001b[1;33m(\u001b[0m\u001b[1;34m\"Delivery_Time\"\u001b[0m\u001b[1;33m)\u001b[0m\u001b[1;33m\u001b[0m\u001b[1;33m\u001b[0m\u001b[0m\n\u001b[0;32m      3\u001b[0m \u001b[0mplt\u001b[0m\u001b[1;33m.\u001b[0m\u001b[0mylabel\u001b[0m\u001b[1;33m(\u001b[0m\u001b[1;34m\"Sorting_Time\"\u001b[0m\u001b[1;33m)\u001b[0m\u001b[1;33m\u001b[0m\u001b[1;33m\u001b[0m\u001b[0m\n\u001b[0;32m      4\u001b[0m \u001b[0mplt\u001b[0m\u001b[1;33m.\u001b[0m\u001b[0mtitle\u001b[0m\u001b[1;33m(\u001b[0m\u001b[1;34m\"ScatterPlot\"\u001b[0m\u001b[1;33m)\u001b[0m\u001b[1;33m\u001b[0m\u001b[1;33m\u001b[0m\u001b[0m\n",
      "\u001b[1;32m~\\anaconda3\\lib\\site-packages\\pandas\\core\\generic.py\u001b[0m in \u001b[0;36m__getattr__\u001b[1;34m(self, name)\u001b[0m\n\u001b[0;32m   5485\u001b[0m         ):\n\u001b[0;32m   5486\u001b[0m             \u001b[1;32mreturn\u001b[0m \u001b[0mself\u001b[0m\u001b[1;33m[\u001b[0m\u001b[0mname\u001b[0m\u001b[1;33m]\u001b[0m\u001b[1;33m\u001b[0m\u001b[1;33m\u001b[0m\u001b[0m\n\u001b[1;32m-> 5487\u001b[1;33m         \u001b[1;32mreturn\u001b[0m \u001b[0mobject\u001b[0m\u001b[1;33m.\u001b[0m\u001b[0m__getattribute__\u001b[0m\u001b[1;33m(\u001b[0m\u001b[0mself\u001b[0m\u001b[1;33m,\u001b[0m \u001b[0mname\u001b[0m\u001b[1;33m)\u001b[0m\u001b[1;33m\u001b[0m\u001b[1;33m\u001b[0m\u001b[0m\n\u001b[0m\u001b[0;32m   5488\u001b[0m \u001b[1;33m\u001b[0m\u001b[0m\n\u001b[0;32m   5489\u001b[0m     \u001b[1;32mdef\u001b[0m \u001b[0m__setattr__\u001b[0m\u001b[1;33m(\u001b[0m\u001b[0mself\u001b[0m\u001b[1;33m,\u001b[0m \u001b[0mname\u001b[0m\u001b[1;33m:\u001b[0m \u001b[0mstr\u001b[0m\u001b[1;33m,\u001b[0m \u001b[0mvalue\u001b[0m\u001b[1;33m)\u001b[0m \u001b[1;33m->\u001b[0m \u001b[1;32mNone\u001b[0m\u001b[1;33m:\u001b[0m\u001b[1;33m\u001b[0m\u001b[1;33m\u001b[0m\u001b[0m\n",
      "\u001b[1;31mAttributeError\u001b[0m: 'DataFrame' object has no attribute 'Sorting_Time'"
     ]
    }
   ],
   "source": [
    "plt.plot(dt.Delivery_Time,dt.Sorting_Time,\"rs\")\n",
    "plt.xlabel(\"Delivery_Time\")\n",
    "plt.ylabel(\"Sorting_Time\")\n",
    "plt.title(\"ScatterPlot\")\n"
   ]
  },
  {
   "cell_type": "code",
   "execution_count": null,
   "id": "c4be57f8",
   "metadata": {
    "ExecuteTime": {
     "end_time": "2023-02-08T11:35:25.491353Z",
     "start_time": "2023-02-08T11:35:25.491353Z"
    }
   },
   "outputs": [],
   "source": [
    "dt.corr()"
   ]
  },
  {
   "cell_type": "code",
   "execution_count": null,
   "id": "3eedb987",
   "metadata": {
    "ExecuteTime": {
     "end_time": "2023-02-08T11:35:25.491353Z",
     "start_time": "2023-02-08T11:35:25.491353Z"
    }
   },
   "outputs": [],
   "source": [
    "import statsmodels.formula.api as smf\n",
    "model=smf.ols(\"Sorting_Time~Delivery_Time\",data=dt).fit()\n",
    "model.params"
   ]
  },
  {
   "cell_type": "code",
   "execution_count": null,
   "id": "a63c3eeb",
   "metadata": {
    "ExecuteTime": {
     "end_time": "2023-02-08T11:35:25.491353Z",
     "start_time": "2023-02-08T11:35:25.491353Z"
    }
   },
   "outputs": [],
   "source": [
    "model.summary()"
   ]
  },
  {
   "cell_type": "code",
   "execution_count": null,
   "id": "88b3bae9",
   "metadata": {
    "ExecuteTime": {
     "end_time": "2023-02-08T11:35:25.491353Z",
     "start_time": "2023-02-08T11:35:25.491353Z"
    }
   },
   "outputs": [],
   "source": [
    "model.resid"
   ]
  },
  {
   "cell_type": "code",
   "execution_count": null,
   "id": "943a3e4e",
   "metadata": {
    "ExecuteTime": {
     "end_time": "2023-02-08T11:35:25.499355Z",
     "start_time": "2023-02-08T11:35:25.499355Z"
    }
   },
   "outputs": [],
   "source": [
    "pred=model.predict(dt.Delivery_Time)\n",
    "pred"
   ]
  },
  {
   "cell_type": "code",
   "execution_count": null,
   "id": "edb4e753",
   "metadata": {
    "ExecuteTime": {
     "end_time": "2023-02-08T11:35:25.501515Z",
     "start_time": "2023-02-08T11:35:25.501515Z"
    }
   },
   "outputs": [],
   "source": [
    "model.resid_pearson"
   ]
  },
  {
   "cell_type": "code",
   "execution_count": null,
   "id": "9a0397f4",
   "metadata": {
    "ExecuteTime": {
     "end_time": "2023-02-08T11:35:25.501515Z",
     "start_time": "2023-02-08T11:35:25.501515Z"
    }
   },
   "outputs": [],
   "source": [
    "rmse_lin=np.sqrt(np.mean((np.array(dt['Sorting_Time'])-np.array(pred))**2))\n",
    "rmse_lin"
   ]
  },
  {
   "cell_type": "code",
   "execution_count": null,
   "id": "dd563a4c",
   "metadata": {
    "ExecuteTime": {
     "end_time": "2023-02-08T11:35:25.501515Z",
     "start_time": "2023-02-08T11:35:25.501515Z"
    }
   },
   "outputs": [],
   "source": [
    "plt.scatter(x=dt['Delivery_Time'],y=dt['Sorting_Time'],color='blue')\n",
    "plt.plot(dt['Delivery_Time'],pred,color='red')\n",
    "plt.xlabel('Delivery_Time')\n",
    "plt.ylabel('Sorting_Time')"
   ]
  },
  {
   "cell_type": "code",
   "execution_count": null,
   "id": "1dfacbb0",
   "metadata": {
    "ExecuteTime": {
     "end_time": "2023-02-08T11:35:25.506518Z",
     "start_time": "2023-02-08T11:35:25.506518Z"
    }
   },
   "outputs": [],
   "source": [
    "model2=smf.ols('Sorting_Time~np.log(Delivery_Time)',data=dt).fit()"
   ]
  },
  {
   "cell_type": "code",
   "execution_count": null,
   "id": "6a3ef447",
   "metadata": {
    "ExecuteTime": {
     "end_time": "2023-02-08T11:35:25.506518Z",
     "start_time": "2023-02-08T11:35:25.506518Z"
    }
   },
   "outputs": [],
   "source": [
    "model2.summary()"
   ]
  },
  {
   "cell_type": "code",
   "execution_count": null,
   "id": "131e90b5",
   "metadata": {
    "ExecuteTime": {
     "end_time": "2023-02-08T11:35:25.506518Z",
     "start_time": "2023-02-08T11:35:25.506518Z"
    }
   },
   "outputs": [],
   "source": [
    "pred2=model2.predict(pd.DataFrame(dt['Delivery_Time']))\n",
    "pred2"
   ]
  },
  {
   "cell_type": "code",
   "execution_count": null,
   "id": "ec43f454",
   "metadata": {
    "ExecuteTime": {
     "end_time": "2023-02-08T11:35:25.506518Z",
     "start_time": "2023-02-08T11:35:25.506518Z"
    }
   },
   "outputs": [],
   "source": [
    "pred2\n",
    "rmse_log=np.sqrt(np.mean((np.array(dt['Sorting_Time'])-np.array(pred2))**2))\n",
    "rmse_log"
   ]
  },
  {
   "cell_type": "code",
   "execution_count": null,
   "id": "408f7839",
   "metadata": {
    "ExecuteTime": {
     "end_time": "2023-02-08T11:35:25.506518Z",
     "start_time": "2023-02-08T11:35:25.506518Z"
    }
   },
   "outputs": [],
   "source": [
    "plt.scatter(x=dt['Delivery_Time'],y=dt['Sorting_Time'],color='brown')\n",
    "plt.plot(dt['Delivery_Time'],pred2,color='orange')\n",
    "plt.xlabel('Deliver_Time')\n",
    "plt.ylabel('')"
   ]
  },
  {
   "cell_type": "code",
   "execution_count": null,
   "id": "6ecaab58",
   "metadata": {
    "ExecuteTime": {
     "end_time": "2023-02-08T11:35:25.514811Z",
     "start_time": "2023-02-08T11:35:25.514811Z"
    }
   },
   "outputs": [],
   "source": [
    "#exponential model\n",
    "model3=smf.ols('np.log(Sorting_Time)~Delivery_Time',data=dt).fit()\n",
    "model3.params\n",
    "model3.summary()"
   ]
  },
  {
   "cell_type": "code",
   "execution_count": null,
   "id": "a78964de",
   "metadata": {
    "ExecuteTime": {
     "end_time": "2023-02-08T11:35:25.516357Z",
     "start_time": "2023-02-08T11:35:25.516357Z"
    }
   },
   "outputs": [],
   "source": [
    "pred_log=model3.predict(pd.DataFrame(dt['Delivery_Time']))\n",
    "pred_log\n"
   ]
  },
  {
   "cell_type": "code",
   "execution_count": null,
   "id": "f288f858",
   "metadata": {
    "ExecuteTime": {
     "end_time": "2023-02-08T11:35:25.516357Z",
     "start_time": "2023-02-08T11:35:25.516357Z"
    }
   },
   "outputs": [],
   "source": [
    "pred3=np.exp(pred_log)\n",
    "pred3"
   ]
  },
  {
   "cell_type": "code",
   "execution_count": null,
   "id": "bade016a",
   "metadata": {
    "ExecuteTime": {
     "end_time": "2023-02-08T11:35:25.516357Z",
     "start_time": "2023-02-08T11:35:25.516357Z"
    }
   },
   "outputs": [],
   "source": [
    "rmse_exp=np.sqrt(np.mean((np.array(dt['Sorting_Time'])-np.array(pred3))**2))\n",
    "rmse_exp"
   ]
  },
  {
   "cell_type": "code",
   "execution_count": null,
   "id": "272feb41",
   "metadata": {
    "ExecuteTime": {
     "end_time": "2023-02-08T11:35:25.516357Z",
     "start_time": "2023-02-08T11:35:25.516357Z"
    }
   },
   "outputs": [],
   "source": [
    "pred3.corr(dt.Delivery_Time)"
   ]
  },
  {
   "cell_type": "code",
   "execution_count": null,
   "id": "932b2a61",
   "metadata": {
    "ExecuteTime": {
     "end_time": "2023-02-08T11:35:25.523434Z",
     "start_time": "2023-02-08T11:35:25.523434Z"
    }
   },
   "outputs": [],
   "source": [
    "plt.scatter(x=dt['Delivery_Time'],y=dt['Sorting_Time'],color='red')\n",
    "plt.plot(dt.Delivery_Time,pred3,color='black')"
   ]
  },
  {
   "cell_type": "code",
   "execution_count": null,
   "id": "12aaeddc",
   "metadata": {
    "ExecuteTime": {
     "end_time": "2023-02-08T11:35:25.523434Z",
     "start_time": "2023-02-08T11:35:25.523434Z"
    }
   },
   "outputs": [],
   "source": [
    "resid1=model3.resid_pearson\n",
    "resid1"
   ]
  },
  {
   "cell_type": "code",
   "execution_count": null,
   "id": "f364712a",
   "metadata": {
    "ExecuteTime": {
     "end_time": "2023-02-08T11:35:25.523434Z",
     "start_time": "2023-02-08T11:35:25.523434Z"
    }
   },
   "outputs": [],
   "source": [
    "plt.plot(model3.resid_pearson,'o')\n",
    "plt.axhline(y=0,color='green')\n",
    "plt.xlabel(\"Observation Number\")\n",
    "plt.ylabel(\"Standardized Residual\")"
   ]
  },
  {
   "cell_type": "code",
   "execution_count": null,
   "id": "b4c26b1a",
   "metadata": {
    "ExecuteTime": {
     "end_time": "2023-02-08T11:35:25.523434Z",
     "start_time": "2023-02-08T11:35:25.523434Z"
    }
   },
   "outputs": [],
   "source": [
    "plt.scatter(x=pred3,y=dt.Sorting_Time)\n",
    "plt.xlabel(\"Predicted\")\n",
    "plt.ylabel(\"Actual\")"
   ]
  },
  {
   "cell_type": "code",
   "execution_count": null,
   "id": "4af9a88d",
   "metadata": {
    "ExecuteTime": {
     "end_time": "2023-02-08T11:35:25.523434Z",
     "start_time": "2023-02-08T11:35:25.523434Z"
    }
   },
   "outputs": [],
   "source": [
    "dt['Delivery_Time_Sq']=dt.Delivery_Time*dt.Delivery_Time\n",
    "dt"
   ]
  },
  {
   "cell_type": "code",
   "execution_count": null,
   "id": "2cdf6ef3",
   "metadata": {
    "ExecuteTime": {
     "end_time": "2023-02-08T11:35:25.523434Z",
     "start_time": "2023-02-08T11:35:25.523434Z"
    }
   },
   "outputs": [],
   "source": [
    "#model4\n",
    "model_quad=smf.ols(\"np.log(Sorting_Time)~Delivery_Time+Delivery_Time_Sq\",data=dt).fit()\n",
    "model_quad.summary()"
   ]
  },
  {
   "cell_type": "code",
   "execution_count": null,
   "id": "2e01813f",
   "metadata": {
    "ExecuteTime": {
     "end_time": "2023-02-08T11:35:25.531415Z",
     "start_time": "2023-02-08T11:35:25.531415Z"
    }
   },
   "outputs": [],
   "source": [
    "pred_quad=model_quad.predict(dt)\n",
    "pred4=np.exp(pred_quad)\n",
    "pred4"
   ]
  },
  {
   "cell_type": "code",
   "execution_count": null,
   "id": "4514c9f2",
   "metadata": {
    "ExecuteTime": {
     "end_time": "2023-02-08T11:35:25.531415Z",
     "start_time": "2023-02-08T11:35:25.531415Z"
    }
   },
   "outputs": [],
   "source": [
    "rmse_quad=np.sqrt(np.mean((np.array(dt['Sorting_Time'])-np.array(pred4))**2))\n",
    "rmse_quad"
   ]
  },
  {
   "cell_type": "code",
   "execution_count": null,
   "id": "55f7c513",
   "metadata": {
    "ExecuteTime": {
     "end_time": "2023-02-08T11:35:25.535336Z",
     "start_time": "2023-02-08T11:35:25.535336Z"
    }
   },
   "outputs": [],
   "source": [
    "plt.scatter(dt.Delivery_Time,dt.Sorting_Time,color='black')\n",
    "plt.plot(dt.Delivery_Time,pred4,color='red')"
   ]
  },
  {
   "cell_type": "code",
   "execution_count": null,
   "id": "b470b1bd",
   "metadata": {
    "ExecuteTime": {
     "end_time": "2023-02-08T11:35:25.535336Z",
     "start_time": "2023-02-08T11:35:25.535336Z"
    }
   },
   "outputs": [],
   "source": [
    "plt.scatter(np.arange(21),model_quad.resid_pearson)\n",
    "plt.axhline(y=0,color='orange')\n",
    "plt.xlabel(\"Observation Number\")\n",
    "plt.ylabel(\"Standardized Residual\")\n"
   ]
  },
  {
   "cell_type": "code",
   "execution_count": null,
   "id": "c4890938",
   "metadata": {
    "ExecuteTime": {
     "end_time": "2023-02-08T11:35:25.535336Z",
     "start_time": "2023-02-08T11:35:25.535336Z"
    }
   },
   "outputs": [],
   "source": [
    "data={'MODEL':pd.Series([\"rmse_lin\",\"rmse_log\",\"rmse_exp\",\"rmse_quad\"]),\n",
    "      \"RMSE_Values\":pd.Series([rmse_lin,rmse_log,rmse_exp,rmse_quad]),\n",
    "      \"Rsquare\":pd.Series([model.rsquared,model2.rsquared,model3.rsquared,model_quad.rsquared])}\n",
    "table=pd.DataFrame(data)\n",
    "table"
   ]
  },
  {
   "cell_type": "code",
   "execution_count": null,
   "id": "edcdf1c6",
   "metadata": {
    "ExecuteTime": {
     "end_time": "2023-02-08T11:35:25.539780Z",
     "start_time": "2023-02-08T11:35:25.539780Z"
    }
   },
   "outputs": [],
   "source": [
    "import matplotlib.pyplot as plt\n",
    "plt.style.use('classic')\n",
    "plt.scatter(dt.Delivery_Time,dt.Sorting_Time,c='b')\n",
    "plt.plot(dt.Delivery_Time,pred4,\"pink\")"
   ]
  },
  {
   "cell_type": "code",
   "execution_count": null,
   "id": "90ca8ac0",
   "metadata": {},
   "outputs": [],
   "source": []
  }
 ],
 "metadata": {
  "kernelspec": {
   "display_name": "Python 3 (ipykernel)",
   "language": "python",
   "name": "python3"
  },
  "language_info": {
   "codemirror_mode": {
    "name": "ipython",
    "version": 3
   },
   "file_extension": ".py",
   "mimetype": "text/x-python",
   "name": "python",
   "nbconvert_exporter": "python",
   "pygments_lexer": "ipython3",
   "version": "3.9.7"
  }
 },
 "nbformat": 4,
 "nbformat_minor": 5
}
