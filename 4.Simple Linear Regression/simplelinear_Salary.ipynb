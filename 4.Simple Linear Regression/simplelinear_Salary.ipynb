{
 "cells": [
  {
   "cell_type": "code",
   "execution_count": 1,
   "id": "18715397",
   "metadata": {
    "ExecuteTime": {
     "end_time": "2023-10-17T10:47:12.610018Z",
     "start_time": "2023-10-17T10:46:41.083917Z"
    }
   },
   "outputs": [],
   "source": [
    "import pandas as pd\n",
    "import numpy as np\n",
    "import matplotlib.pyplot as plt\n"
   ]
  },
  {
   "cell_type": "code",
   "execution_count": 2,
   "id": "38aa04de",
   "metadata": {
    "ExecuteTime": {
     "end_time": "2023-10-17T10:47:13.108402Z",
     "start_time": "2023-10-17T10:47:12.610018Z"
    }
   },
   "outputs": [
    {
     "data": {
      "text/html": [
       "<div>\n",
       "<style scoped>\n",
       "    .dataframe tbody tr th:only-of-type {\n",
       "        vertical-align: middle;\n",
       "    }\n",
       "\n",
       "    .dataframe tbody tr th {\n",
       "        vertical-align: top;\n",
       "    }\n",
       "\n",
       "    .dataframe thead th {\n",
       "        text-align: right;\n",
       "    }\n",
       "</style>\n",
       "<table border=\"1\" class=\"dataframe\">\n",
       "  <thead>\n",
       "    <tr style=\"text-align: right;\">\n",
       "      <th></th>\n",
       "      <th>YearsExperience</th>\n",
       "      <th>Salary</th>\n",
       "    </tr>\n",
       "  </thead>\n",
       "  <tbody>\n",
       "    <tr>\n",
       "      <th>0</th>\n",
       "      <td>1.1</td>\n",
       "      <td>39343.0</td>\n",
       "    </tr>\n",
       "    <tr>\n",
       "      <th>1</th>\n",
       "      <td>1.3</td>\n",
       "      <td>46205.0</td>\n",
       "    </tr>\n",
       "    <tr>\n",
       "      <th>2</th>\n",
       "      <td>1.5</td>\n",
       "      <td>37731.0</td>\n",
       "    </tr>\n",
       "    <tr>\n",
       "      <th>3</th>\n",
       "      <td>2.0</td>\n",
       "      <td>43525.0</td>\n",
       "    </tr>\n",
       "    <tr>\n",
       "      <th>4</th>\n",
       "      <td>2.2</td>\n",
       "      <td>39891.0</td>\n",
       "    </tr>\n",
       "  </tbody>\n",
       "</table>\n",
       "</div>"
      ],
      "text/plain": [
       "   YearsExperience   Salary\n",
       "0              1.1  39343.0\n",
       "1              1.3  46205.0\n",
       "2              1.5  37731.0\n",
       "3              2.0  43525.0\n",
       "4              2.2  39891.0"
      ]
     },
     "execution_count": 2,
     "metadata": {},
     "output_type": "execute_result"
    }
   ],
   "source": [
    "df=pd.read_csv(\"Salary_Data.csv\")\n",
    "df.head()"
   ]
  },
  {
   "cell_type": "code",
   "execution_count": 3,
   "id": "cff033ce",
   "metadata": {
    "ExecuteTime": {
     "end_time": "2023-10-17T10:47:13.132708Z",
     "start_time": "2023-10-17T10:47:13.110217Z"
    }
   },
   "outputs": [
    {
     "data": {
      "text/plain": [
       "(30, 2)"
      ]
     },
     "execution_count": 3,
     "metadata": {},
     "output_type": "execute_result"
    }
   ],
   "source": [
    "df.shape"
   ]
  },
  {
   "cell_type": "code",
   "execution_count": 4,
   "id": "e868800d",
   "metadata": {
    "ExecuteTime": {
     "end_time": "2023-10-17T10:47:13.370751Z",
     "start_time": "2023-10-17T10:47:13.132708Z"
    }
   },
   "outputs": [
    {
     "data": {
      "text/html": [
       "<div>\n",
       "<style scoped>\n",
       "    .dataframe tbody tr th:only-of-type {\n",
       "        vertical-align: middle;\n",
       "    }\n",
       "\n",
       "    .dataframe tbody tr th {\n",
       "        vertical-align: top;\n",
       "    }\n",
       "\n",
       "    .dataframe thead th {\n",
       "        text-align: right;\n",
       "    }\n",
       "</style>\n",
       "<table border=\"1\" class=\"dataframe\">\n",
       "  <thead>\n",
       "    <tr style=\"text-align: right;\">\n",
       "      <th></th>\n",
       "      <th>YearsExperience</th>\n",
       "      <th>Salary</th>\n",
       "    </tr>\n",
       "  </thead>\n",
       "  <tbody>\n",
       "    <tr>\n",
       "      <th>count</th>\n",
       "      <td>30.000000</td>\n",
       "      <td>30.000000</td>\n",
       "    </tr>\n",
       "    <tr>\n",
       "      <th>mean</th>\n",
       "      <td>5.313333</td>\n",
       "      <td>76003.000000</td>\n",
       "    </tr>\n",
       "    <tr>\n",
       "      <th>std</th>\n",
       "      <td>2.837888</td>\n",
       "      <td>27414.429785</td>\n",
       "    </tr>\n",
       "    <tr>\n",
       "      <th>min</th>\n",
       "      <td>1.100000</td>\n",
       "      <td>37731.000000</td>\n",
       "    </tr>\n",
       "    <tr>\n",
       "      <th>25%</th>\n",
       "      <td>3.200000</td>\n",
       "      <td>56720.750000</td>\n",
       "    </tr>\n",
       "    <tr>\n",
       "      <th>50%</th>\n",
       "      <td>4.700000</td>\n",
       "      <td>65237.000000</td>\n",
       "    </tr>\n",
       "    <tr>\n",
       "      <th>75%</th>\n",
       "      <td>7.700000</td>\n",
       "      <td>100544.750000</td>\n",
       "    </tr>\n",
       "    <tr>\n",
       "      <th>max</th>\n",
       "      <td>10.500000</td>\n",
       "      <td>122391.000000</td>\n",
       "    </tr>\n",
       "  </tbody>\n",
       "</table>\n",
       "</div>"
      ],
      "text/plain": [
       "       YearsExperience         Salary\n",
       "count        30.000000      30.000000\n",
       "mean          5.313333   76003.000000\n",
       "std           2.837888   27414.429785\n",
       "min           1.100000   37731.000000\n",
       "25%           3.200000   56720.750000\n",
       "50%           4.700000   65237.000000\n",
       "75%           7.700000  100544.750000\n",
       "max          10.500000  122391.000000"
      ]
     },
     "execution_count": 4,
     "metadata": {},
     "output_type": "execute_result"
    }
   ],
   "source": [
    "df.describe()"
   ]
  },
  {
   "cell_type": "code",
   "execution_count": 5,
   "id": "5710ce15",
   "metadata": {
    "ExecuteTime": {
     "end_time": "2023-10-17T10:47:13.605102Z",
     "start_time": "2023-10-17T10:47:13.370751Z"
    }
   },
   "outputs": [
    {
     "name": "stdout",
     "output_type": "stream",
     "text": [
      "<class 'pandas.core.frame.DataFrame'>\n",
      "RangeIndex: 30 entries, 0 to 29\n",
      "Data columns (total 2 columns):\n",
      " #   Column           Non-Null Count  Dtype  \n",
      "---  ------           --------------  -----  \n",
      " 0   YearsExperience  30 non-null     float64\n",
      " 1   Salary           30 non-null     float64\n",
      "dtypes: float64(2)\n",
      "memory usage: 608.0 bytes\n"
     ]
    }
   ],
   "source": [
    "df.info()"
   ]
  },
  {
   "cell_type": "code",
   "execution_count": 6,
   "id": "ba9e7beb",
   "metadata": {
    "ExecuteTime": {
     "end_time": "2023-10-17T10:47:13.636214Z",
     "start_time": "2023-10-17T10:47:13.605102Z"
    }
   },
   "outputs": [
    {
     "data": {
      "text/plain": [
       "Index(['YearsExperience', 'Salary'], dtype='object')"
      ]
     },
     "execution_count": 6,
     "metadata": {},
     "output_type": "execute_result"
    }
   ],
   "source": [
    "df.columns\n"
   ]
  },
  {
   "cell_type": "code",
   "execution_count": 7,
   "id": "bb46a0b3",
   "metadata": {
    "ExecuteTime": {
     "end_time": "2023-10-17T10:47:38.951280Z",
     "start_time": "2023-10-17T10:47:13.636214Z"
    }
   },
   "outputs": [],
   "source": [
    "import warnings\n",
    "warnings.filterwarnings(\"ignore\")\n",
    "import seaborn as sn"
   ]
  },
  {
   "cell_type": "code",
   "execution_count": 8,
   "id": "573b9ac6",
   "metadata": {
    "ExecuteTime": {
     "end_time": "2023-10-17T10:47:41.520883Z",
     "start_time": "2023-10-17T10:47:38.951280Z"
    }
   },
   "outputs": [
    {
     "data": {
      "text/plain": [
       "Text(0.5, 1.0, 'ScatterPlot')"
      ]
     },
     "execution_count": 8,
     "metadata": {},
     "output_type": "execute_result"
    },
    {
     "data": {
      "image/png": "[encoded data removed]",
      "text/plain": [
       "<Figure size 432x288 with 1 Axes>"
      ]
     },
     "metadata": {
      "needs_background": "light"
     },
     "output_type": "display_data"
    }
   ],
   "source": [
    "plt.plot(df.Salary,df.YearsExperience,\"rs\")\n",
    "plt.xlabel(\"Salary\")\n",
    "plt.ylabel(\"YearsEperience\")\n",
    "plt.title(\"ScatterPlot\")   \n",
    "\n"
   ]
  },
  {
   "cell_type": "markdown",
   "id": "f8d87beb",
   "metadata": {},
   "source": [
    "# Correlation"
   ]
  },
  {
   "cell_type": "code",
   "execution_count": 9,
   "id": "445c55c1",
   "metadata": {
    "ExecuteTime": {
     "end_time": "2023-10-17T10:47:41.551987Z",
     "start_time": "2023-10-17T10:47:41.520883Z"
    }
   },
   "outputs": [
    {
     "data": {
      "text/html": [
       "<div>\n",
       "<style scoped>\n",
       "    .dataframe tbody tr th:only-of-type {\n",
       "        vertical-align: middle;\n",
       "    }\n",
       "\n",
       "    .dataframe tbody tr th {\n",
       "        vertical-align: top;\n",
       "    }\n",
       "\n",
       "    .dataframe thead th {\n",
       "        text-align: right;\n",
       "    }\n",
       "</style>\n",
       "<table border=\"1\" class=\"dataframe\">\n",
       "  <thead>\n",
       "    <tr style=\"text-align: right;\">\n",
       "      <th></th>\n",
       "      <th>YearsExperience</th>\n",
       "      <th>Salary</th>\n",
       "    </tr>\n",
       "  </thead>\n",
       "  <tbody>\n",
       "    <tr>\n",
       "      <th>YearsExperience</th>\n",
       "      <td>1.000000</td>\n",
       "      <td>0.978242</td>\n",
       "    </tr>\n",
       "    <tr>\n",
       "      <th>Salary</th>\n",
       "      <td>0.978242</td>\n",
       "      <td>1.000000</td>\n",
       "    </tr>\n",
       "  </tbody>\n",
       "</table>\n",
       "</div>"
      ],
      "text/plain": [
       "                 YearsExperience    Salary\n",
       "YearsExperience         1.000000  0.978242\n",
       "Salary                  0.978242  1.000000"
      ]
     },
     "execution_count": 9,
     "metadata": {},
     "output_type": "execute_result"
    }
   ],
   "source": [
    "df.corr()"
   ]
  },
  {
   "cell_type": "code",
   "execution_count": 10,
   "id": "de172bb3",
   "metadata": {
    "ExecuteTime": {
     "end_time": "2023-10-17T10:47:42.272648Z",
     "start_time": "2023-10-17T10:47:41.551987Z"
    }
   },
   "outputs": [
    {
     "data": {
      "text/plain": [
       "<AxesSubplot:xlabel='YearsExperience', ylabel='Density'>"
      ]
     },
     "execution_count": 10,
     "metadata": {},
     "output_type": "execute_result"
    },
    {
     "data": {
      "image/png": "[encoded data removed]",
      "text/plain": [
       "<Figure size 432x288 with 1 Axes>"
      ]
     },
     "metadata": {
      "needs_background": "light"
     },
     "output_type": "display_data"
    }
   ],
   "source": [
    "sn.distplot(df.YearsExperience)"
   ]
  },
  {
   "cell_type": "code",
   "execution_count": 11,
   "id": "bd80327a",
   "metadata": {
    "ExecuteTime": {
     "end_time": "2023-10-17T10:47:42.382406Z",
     "start_time": "2023-10-17T10:47:42.272648Z"
    }
   },
   "outputs": [
    {
     "data": {
      "text/plain": [
       "<AxesSubplot:xlabel='Salary', ylabel='Density'>"
      ]
     },
     "execution_count": 11,
     "metadata": {},
     "output_type": "execute_result"
    },
    {
     "data": {
      "image/png": "[encoded data removed]",
      "text/plain": [
       "<Figure size 432x288 with 1 Axes>"
      ]
     },
     "metadata": {
      "needs_background": "light"
     },
     "output_type": "display_data"
    }
   ],
   "source": [
    "sn.distplot(df.Salary)"
   ]
  },
  {
   "cell_type": "code",
   "execution_count": 12,
   "id": "6f8b8a6b",
   "metadata": {
    "ExecuteTime": {
     "end_time": "2023-10-17T10:47:47.286558Z",
     "start_time": "2023-10-17T10:47:42.382406Z"
    }
   },
   "outputs": [
    {
     "data": {
      "text/plain": [
       "Intercept   -2.383161\n",
       "Salary       0.000101\n",
       "dtype: float64"
      ]
     },
     "execution_count": 12,
     "metadata": {},
     "output_type": "execute_result"
    }
   ],
   "source": [
    "import statsmodels.formula.api as smf\n",
    "model=smf.ols(\"YearsExperience~Salary\",data=df).fit()\n",
    "model.params"
   ]
  },
  {
   "cell_type": "code",
   "execution_count": 13,
   "id": "be70fc2b",
   "metadata": {
    "ExecuteTime": {
     "end_time": "2023-10-17T10:47:47.505815Z",
     "start_time": "2023-10-17T10:47:47.286558Z"
    }
   },
   "outputs": [
    {
     "data": {
      "text/html": [
       "<table class=\"simpletable\">\n",
       "<caption>OLS Regression Results</caption>\n",
       "<tr>\n",
       "  <th>Dep. Variable:</th>     <td>YearsExperience</td> <th>  R-squared:         </th> <td>   0.957</td>\n",
       "</tr>\n",
       "<tr>\n",
       "  <th>Model:</th>                   <td>OLS</td>       <th>  Adj. R-squared:    </th> <td>   0.955</td>\n",
       "</tr>\n",
       "<tr>\n",
       "  <th>Method:</th>             <td>Least Squares</td>  <th>  F-statistic:       </th> <td>   622.5</td>\n",
       "</tr>\n",
       "<tr>\n",
       "  <th>Date:</th>             <td>Tue, 17 Oct 2023</td> <th>  Prob (F-statistic):</th> <td>1.14e-20</td>\n",
       "</tr>\n",
       "<tr>\n",
       "  <th>Time:</th>                 <td>16:17:47</td>     <th>  Log-Likelihood:    </th> <td> -26.168</td>\n",
       "</tr>\n",
       "<tr>\n",
       "  <th>No. Observations:</th>      <td>    30</td>      <th>  AIC:               </th> <td>   56.34</td>\n",
       "</tr>\n",
       "<tr>\n",
       "  <th>Df Residuals:</th>          <td>    28</td>      <th>  BIC:               </th> <td>   59.14</td>\n",
       "</tr>\n",
       "<tr>\n",
       "  <th>Df Model:</th>              <td>     1</td>      <th>                     </th>     <td> </td>   \n",
       "</tr>\n",
       "<tr>\n",
       "  <th>Covariance Type:</th>      <td>nonrobust</td>    <th>                     </th>     <td> </td>   \n",
       "</tr>\n",
       "</table>\n",
       "<table class=\"simpletable\">\n",
       "<tr>\n",
       "      <td></td>         <th>coef</th>     <th>std err</th>      <th>t</th>      <th>P>|t|</th>  <th>[0.025</th>    <th>0.975]</th>  \n",
       "</tr>\n",
       "<tr>\n",
       "  <th>Intercept</th> <td>   -2.3832</td> <td>    0.327</td> <td>   -7.281</td> <td> 0.000</td> <td>   -3.054</td> <td>   -1.713</td>\n",
       "</tr>\n",
       "<tr>\n",
       "  <th>Salary</th>    <td>    0.0001</td> <td> 4.06e-06</td> <td>   24.950</td> <td> 0.000</td> <td>  9.3e-05</td> <td>    0.000</td>\n",
       "</tr>\n",
       "</table>\n",
       "<table class=\"simpletable\">\n",
       "<tr>\n",
       "  <th>Omnibus:</th>       <td> 3.544</td> <th>  Durbin-Watson:     </th> <td>   1.587</td>\n",
       "</tr>\n",
       "<tr>\n",
       "  <th>Prob(Omnibus):</th> <td> 0.170</td> <th>  Jarque-Bera (JB):  </th> <td>   2.094</td>\n",
       "</tr>\n",
       "<tr>\n",
       "  <th>Skew:</th>          <td>-0.412</td> <th>  Prob(JB):          </th> <td>   0.351</td>\n",
       "</tr>\n",
       "<tr>\n",
       "  <th>Kurtosis:</th>      <td> 2.003</td> <th>  Cond. No.          </th> <td>2.41e+05</td>\n",
       "</tr>\n",
       "</table><br/><br/>Notes:<br/>[1] Standard Errors assume that the covariance matrix of the errors is correctly specified.<br/>[2] The condition number is large, 2.41e+05. This might indicate that there are<br/>strong multicollinearity or other numerical problems."
      ],
      "text/plain": [
       "<class 'statsmodels.iolib.summary.Summary'>\n",
       "\"\"\"\n",
       "                            OLS Regression Results                            \n",
       "==============================================================================\n",
       "Dep. Variable:        YearsExperience   R-squared:                       0.957\n",
       "Model:                            OLS   Adj. R-squared:                  0.955\n",
       "Method:                 Least Squares   F-statistic:                     622.5\n",
       "Date:                Tue, 17 Oct 2023   Prob (F-statistic):           1.14e-20\n",
       "Time:                        16:17:47   Log-Likelihood:                -26.168\n",
       "No. Observations:                  30   AIC:                             56.34\n",
       "Df Residuals:                      28   BIC:                             59.14\n",
       "Df Model:                           1                                         \n",
       "Covariance Type:            nonrobust                                         \n",
       "==============================================================================\n",
       "                 coef    std err          t      P>|t|      [0.025      0.975]\n",
       "------------------------------------------------------------------------------\n",
       "Intercept     -2.3832      0.327     -7.281      0.000      -3.054      -1.713\n",
       "Salary         0.0001   4.06e-06     24.950      0.000     9.3e-05       0.000\n",
       "==============================================================================\n",
       "Omnibus:                        3.544   Durbin-Watson:                   1.587\n",
       "Prob(Omnibus):                  0.170   Jarque-Bera (JB):                2.094\n",
       "Skew:                          -0.412   Prob(JB):                        0.351\n",
       "Kurtosis:                       2.003   Cond. No.                     2.41e+05\n",
       "==============================================================================\n",
       "\n",
       "Notes:\n",
       "[1] Standard Errors assume that the covariance matrix of the errors is correctly specified.\n",
       "[2] The condition number is large, 2.41e+05. This might indicate that there are\n",
       "strong multicollinearity or other numerical problems.\n",
       "\"\"\""
      ]
     },
     "execution_count": 13,
     "metadata": {},
     "output_type": "execute_result"
    }
   ],
   "source": [
    "model.summary()"
   ]
  },
  {
   "cell_type": "code",
   "execution_count": 14,
   "id": "322ceed5",
   "metadata": {
    "ExecuteTime": {
     "end_time": "2023-10-17T10:47:47.521777Z",
     "start_time": "2023-10-17T10:47:47.510690Z"
    }
   },
   "outputs": [
    {
     "data": {
      "text/plain": [
       "0    -0.500934\n",
       "1    -0.995819\n",
       "2     0.062306\n",
       "3    -0.024427\n",
       "4     0.543572\n",
       "5    -0.452729\n",
       "6    -0.707969\n",
       "7     0.069752\n",
       "8    -0.942905\n",
       "9     0.291879\n",
       "10   -0.118652\n",
       "11    0.733144\n",
       "12    0.615372\n",
       "13    0.702815\n",
       "14    0.694715\n",
       "15    0.403374\n",
       "16    0.796690\n",
       "17   -0.730801\n",
       "18    0.043883\n",
       "19   -1.129735\n",
       "20   -0.106748\n",
       "21   -0.468520\n",
       "22    0.024747\n",
       "23   -0.942087\n",
       "24    0.001558\n",
       "25    0.691330\n",
       "26    0.038218\n",
       "27    0.577103\n",
       "28    0.289155\n",
       "29    0.541712\n",
       "dtype: float64"
      ]
     },
     "execution_count": 14,
     "metadata": {},
     "output_type": "execute_result"
    }
   ],
   "source": [
    "model.resid"
   ]
  },
  {
   "cell_type": "code",
   "execution_count": 15,
   "id": "8561833b",
   "metadata": {
    "ExecuteTime": {
     "end_time": "2023-10-17T10:47:47.657949Z",
     "start_time": "2023-10-17T10:47:47.523248Z"
    }
   },
   "outputs": [
    {
     "data": {
      "text/plain": [
       "0      1.600934\n",
       "1      2.295819\n",
       "2      1.437694\n",
       "3      2.024427\n",
       "4      1.656428\n",
       "5      3.352729\n",
       "6      3.707969\n",
       "7      3.130248\n",
       "8      4.142905\n",
       "9      3.408121\n",
       "10     4.018652\n",
       "11     3.266856\n",
       "12     3.384628\n",
       "13     3.397185\n",
       "14     3.805285\n",
       "15     4.496626\n",
       "16     4.303310\n",
       "17     6.030801\n",
       "18     5.856117\n",
       "19     7.129735\n",
       "20     6.906748\n",
       "21     7.568520\n",
       "22     7.875253\n",
       "23     9.142087\n",
       "24     8.698442\n",
       "25     8.308670\n",
       "26     9.461782\n",
       "27     9.022897\n",
       "28    10.010845\n",
       "29     9.958288\n",
       "dtype: float64"
      ]
     },
     "execution_count": 15,
     "metadata": {},
     "output_type": "execute_result"
    }
   ],
   "source": [
    "pred=model.predict(df.Salary)\n",
    "pred"
   ]
  },
  {
   "cell_type": "code",
   "execution_count": 16,
   "id": "422f5181",
   "metadata": {
    "ExecuteTime": {
     "end_time": "2023-10-17T10:47:47.861419Z",
     "start_time": "2023-10-17T10:47:47.659689Z"
    }
   },
   "outputs": [
    {
     "data": {
      "text/plain": [
       "array([-0.83601202, -1.6619283 ,  0.1039828 , -0.04076678,  0.90717063,\n",
       "       -0.75556182, -1.18153318,  0.11640909, -1.5736192 ,  0.48711814,\n",
       "       -0.19801879,  1.22354877,  1.02699848,  1.1729327 ,  1.15941355,\n",
       "        0.67319349,  1.32960101, -1.21963712,  0.07323614, -1.88542188,\n",
       "       -0.17815314, -0.78191494,  0.0413    , -1.5722537 ,  0.00260051,\n",
       "        1.15376408,  0.06378169,  0.96313051,  0.48257285,  0.90406645])"
      ]
     },
     "execution_count": 16,
     "metadata": {},
     "output_type": "execute_result"
    }
   ],
   "source": [
    "model.resid_pearson"
   ]
  },
  {
   "cell_type": "code",
   "execution_count": 17,
   "id": "7e6ceb97",
   "metadata": {
    "ExecuteTime": {
     "end_time": "2023-10-17T10:47:47.970784Z",
     "start_time": "2023-10-17T10:47:47.861419Z"
    }
   },
   "outputs": [
    {
     "data": {
      "text/plain": [
       "0.5788774181748746"
      ]
     },
     "execution_count": 17,
     "metadata": {},
     "output_type": "execute_result"
    }
   ],
   "source": [
    "rmse_lin=np.sqrt(np.mean((np.array(df['YearsExperience'])-np.array(pred))**2))\n",
    "rmse_lin"
   ]
  },
  {
   "cell_type": "code",
   "execution_count": 18,
   "id": "95f2dd42",
   "metadata": {
    "ExecuteTime": {
     "end_time": "2023-10-17T10:47:48.527250Z",
     "start_time": "2023-10-17T10:47:47.970784Z"
    }
   },
   "outputs": [
    {
     "data": {
      "text/plain": [
       "Text(0, 0.5, 'YearsExperience')"
      ]
     },
     "execution_count": 18,
     "metadata": {},
     "output_type": "execute_result"
    },
    {
     "data": {
      "image/png": "[encoded data removed]",
      "text/plain": [
       "<Figure size 432x288 with 1 Axes>"
      ]
     },
     "metadata": {
      "needs_background": "light"
     },
     "output_type": "display_data"
    }
   ],
   "source": [
    "plt.scatter(x=df['Salary'],y=df['YearsExperience'],color='blue')\n",
    "plt.plot(df['Salary'],pred,color='red')\n",
    "plt.xlabel('Salary')\n",
    "plt.ylabel('YearsExperience')"
   ]
  },
  {
   "cell_type": "code",
   "execution_count": 19,
   "id": "fd227a08",
   "metadata": {
    "ExecuteTime": {
     "end_time": "2023-10-17T10:47:48.559063Z",
     "start_time": "2023-10-17T10:47:48.528468Z"
    }
   },
   "outputs": [
    {
     "data": {
      "text/html": [
       "<table class=\"simpletable\">\n",
       "<caption>OLS Regression Results</caption>\n",
       "<tr>\n",
       "  <th>Dep. Variable:</th>     <td>YearsExperience</td> <th>  R-squared:         </th> <td>   0.932</td>\n",
       "</tr>\n",
       "<tr>\n",
       "  <th>Model:</th>                   <td>OLS</td>       <th>  Adj. R-squared:    </th> <td>   0.930</td>\n",
       "</tr>\n",
       "<tr>\n",
       "  <th>Method:</th>             <td>Least Squares</td>  <th>  F-statistic:       </th> <td>   383.6</td>\n",
       "</tr>\n",
       "<tr>\n",
       "  <th>Date:</th>             <td>Tue, 17 Oct 2023</td> <th>  Prob (F-statistic):</th> <td>7.03e-18</td>\n",
       "</tr>\n",
       "<tr>\n",
       "  <th>Time:</th>                 <td>16:17:48</td>     <th>  Log-Likelihood:    </th> <td> -33.035</td>\n",
       "</tr>\n",
       "<tr>\n",
       "  <th>No. Observations:</th>      <td>    30</td>      <th>  AIC:               </th> <td>   70.07</td>\n",
       "</tr>\n",
       "<tr>\n",
       "  <th>Df Residuals:</th>          <td>    28</td>      <th>  BIC:               </th> <td>   72.87</td>\n",
       "</tr>\n",
       "<tr>\n",
       "  <th>Df Model:</th>              <td>     1</td>      <th>                     </th>     <td> </td>   \n",
       "</tr>\n",
       "<tr>\n",
       "  <th>Covariance Type:</th>      <td>nonrobust</td>    <th>                     </th>     <td> </td>   \n",
       "</tr>\n",
       "</table>\n",
       "<table class=\"simpletable\">\n",
       "<tr>\n",
       "         <td></td>           <th>coef</th>     <th>std err</th>      <th>t</th>      <th>P>|t|</th>  <th>[0.025</th>    <th>0.975]</th>  \n",
       "</tr>\n",
       "<tr>\n",
       "  <th>Intercept</th>      <td>  -77.6961</td> <td>    4.241</td> <td>  -18.322</td> <td> 0.000</td> <td>  -86.383</td> <td>  -69.009</td>\n",
       "</tr>\n",
       "<tr>\n",
       "  <th>np.log(Salary)</th> <td>    7.4288</td> <td>    0.379</td> <td>   19.585</td> <td> 0.000</td> <td>    6.652</td> <td>    8.206</td>\n",
       "</tr>\n",
       "</table>\n",
       "<table class=\"simpletable\">\n",
       "<tr>\n",
       "  <th>Omnibus:</th>       <td> 1.748</td> <th>  Durbin-Watson:     </th> <td>   1.348</td>\n",
       "</tr>\n",
       "<tr>\n",
       "  <th>Prob(Omnibus):</th> <td> 0.417</td> <th>  Jarque-Bera (JB):  </th> <td>   1.213</td>\n",
       "</tr>\n",
       "<tr>\n",
       "  <th>Skew:</th>          <td>-0.227</td> <th>  Prob(JB):          </th> <td>   0.545</td>\n",
       "</tr>\n",
       "<tr>\n",
       "  <th>Kurtosis:</th>      <td> 2.126</td> <th>  Cond. No.          </th> <td>    347.</td>\n",
       "</tr>\n",
       "</table><br/><br/>Notes:<br/>[1] Standard Errors assume that the covariance matrix of the errors is correctly specified."
      ],
      "text/plain": [
       "<class 'statsmodels.iolib.summary.Summary'>\n",
       "\"\"\"\n",
       "                            OLS Regression Results                            \n",
       "==============================================================================\n",
       "Dep. Variable:        YearsExperience   R-squared:                       0.932\n",
       "Model:                            OLS   Adj. R-squared:                  0.930\n",
       "Method:                 Least Squares   F-statistic:                     383.6\n",
       "Date:                Tue, 17 Oct 2023   Prob (F-statistic):           7.03e-18\n",
       "Time:                        16:17:48   Log-Likelihood:                -33.035\n",
       "No. Observations:                  30   AIC:                             70.07\n",
       "Df Residuals:                      28   BIC:                             72.87\n",
       "Df Model:                           1                                         \n",
       "Covariance Type:            nonrobust                                         \n",
       "==================================================================================\n",
       "                     coef    std err          t      P>|t|      [0.025      0.975]\n",
       "----------------------------------------------------------------------------------\n",
       "Intercept        -77.6961      4.241    -18.322      0.000     -86.383     -69.009\n",
       "np.log(Salary)     7.4288      0.379     19.585      0.000       6.652       8.206\n",
       "==============================================================================\n",
       "Omnibus:                        1.748   Durbin-Watson:                   1.348\n",
       "Prob(Omnibus):                  0.417   Jarque-Bera (JB):                1.213\n",
       "Skew:                          -0.227   Prob(JB):                        0.545\n",
       "Kurtosis:                       2.126   Cond. No.                         347.\n",
       "==============================================================================\n",
       "\n",
       "Notes:\n",
       "[1] Standard Errors assume that the covariance matrix of the errors is correctly specified.\n",
       "\"\"\""
      ]
     },
     "execution_count": 19,
     "metadata": {},
     "output_type": "execute_result"
    }
   ],
   "source": [
    "model2=smf.ols('YearsExperience~np.log(Salary)',data=df).fit()\n",
    "model2.summary()"
   ]
  },
  {
   "cell_type": "code",
   "execution_count": 20,
   "id": "bb0f2dde",
   "metadata": {
    "ExecuteTime": {
     "end_time": "2023-10-17T10:47:48.699687Z",
     "start_time": "2023-10-17T10:47:48.559063Z"
    }
   },
   "outputs": [
    {
     "data": {
      "text/plain": [
       "0     0.901345\n",
       "1     2.095676\n",
       "2     0.590552\n",
       "3     1.651785\n",
       "4     1.004105\n",
       "5     3.608650\n",
       "6     4.055053\n",
       "7     3.314768\n",
       "8     4.567424\n",
       "9     3.680047\n",
       "10    4.424619\n",
       "11    3.496591\n",
       "12    3.649849\n",
       "13    3.666005\n",
       "14    4.172803\n",
       "15    4.959542\n",
       "16    4.747810\n",
       "17    6.454999\n",
       "18    6.299145\n",
       "19    7.366932\n",
       "20    7.190723\n",
       "21    7.701920\n",
       "22    7.927435\n",
       "23    8.792461\n",
       "24    8.500852\n",
       "25    8.234853\n",
       "26    8.995721\n",
       "27    8.715235\n",
       "28    9.332335\n",
       "29    9.300766\n",
       "dtype: float64"
      ]
     },
     "execution_count": 20,
     "metadata": {},
     "output_type": "execute_result"
    }
   ],
   "source": [
    "pred2=model2.predict(pd.DataFrame(df['Salary']))\n",
    "pred2"
   ]
  },
  {
   "cell_type": "code",
   "execution_count": 21,
   "id": "3e18477c",
   "metadata": {
    "ExecuteTime": {
     "end_time": "2023-10-17T10:47:48.855862Z",
     "start_time": "2023-10-17T10:47:48.699687Z"
    }
   },
   "outputs": [
    {
     "data": {
      "text/plain": [
       "0.7277682036871291"
      ]
     },
     "execution_count": 21,
     "metadata": {},
     "output_type": "execute_result"
    }
   ],
   "source": [
    "pred2\n",
    "rmse_log=np.sqrt(np.mean((np.array(df['YearsExperience'])-np.array(pred2))**2))\n",
    "rmse_log"
   ]
  },
  {
   "cell_type": "code",
   "execution_count": 22,
   "id": "e8fc5b18",
   "metadata": {
    "ExecuteTime": {
     "end_time": "2023-10-17T10:47:49.201440Z",
     "start_time": "2023-10-17T10:47:48.855862Z"
    }
   },
   "outputs": [
    {
     "data": {
      "text/plain": [
       "Text(0, 0.5, 'YearsEperience')"
      ]
     },
     "execution_count": 22,
     "metadata": {},
     "output_type": "execute_result"
    },
    {
     "data": {
      "image/png": "[encoded data removed]",
      "text/plain": [
       "<Figure size 432x288 with 1 Axes>"
      ]
     },
     "metadata": {
      "needs_background": "light"
     },
     "output_type": "display_data"
    }
   ],
   "source": [
    "plt.scatter(x=df['Salary'],y=df['YearsExperience'],color='brown')\n",
    "plt.plot(df['Salary'],pred2,color='orange')\n",
    "plt.xlabel('Salary_Data')\n",
    "plt.ylabel('YearsEperience')"
   ]
  },
  {
   "cell_type": "code",
   "execution_count": 23,
   "id": "ba40b655",
   "metadata": {
    "ExecuteTime": {
     "end_time": "2023-10-17T10:47:49.452009Z",
     "start_time": "2023-10-17T10:47:49.201440Z"
    }
   },
   "outputs": [
    {
     "data": {
      "text/html": [
       "<table class=\"simpletable\">\n",
       "<caption>OLS Regression Results</caption>\n",
       "<tr>\n",
       "  <th>Dep. Variable:</th>    <td>np.log(YearsExperience)</td> <th>  R-squared:         </th> <td>   0.854</td>\n",
       "</tr>\n",
       "<tr>\n",
       "  <th>Model:</th>                      <td>OLS</td>           <th>  Adj. R-squared:    </th> <td>   0.849</td>\n",
       "</tr>\n",
       "<tr>\n",
       "  <th>Method:</th>                <td>Least Squares</td>      <th>  F-statistic:       </th> <td>   163.6</td>\n",
       "</tr>\n",
       "<tr>\n",
       "  <th>Date:</th>                <td>Tue, 17 Oct 2023</td>     <th>  Prob (F-statistic):</th> <td>3.25e-13</td>\n",
       "</tr>\n",
       "<tr>\n",
       "  <th>Time:</th>                    <td>16:17:49</td>         <th>  Log-Likelihood:    </th> <td> 0.92814</td>\n",
       "</tr>\n",
       "<tr>\n",
       "  <th>No. Observations:</th>         <td>    30</td>          <th>  AIC:               </th> <td>   2.144</td>\n",
       "</tr>\n",
       "<tr>\n",
       "  <th>Df Residuals:</th>             <td>    28</td>          <th>  BIC:               </th> <td>   4.946</td>\n",
       "</tr>\n",
       "<tr>\n",
       "  <th>Df Model:</th>                 <td>     1</td>          <th>                     </th>     <td> </td>   \n",
       "</tr>\n",
       "<tr>\n",
       "  <th>Covariance Type:</th>         <td>nonrobust</td>        <th>                     </th>     <td> </td>   \n",
       "</tr>\n",
       "</table>\n",
       "<table class=\"simpletable\">\n",
       "<tr>\n",
       "      <td></td>         <th>coef</th>     <th>std err</th>      <th>t</th>      <th>P>|t|</th>  <th>[0.025</th>    <th>0.975]</th>  \n",
       "</tr>\n",
       "<tr>\n",
       "  <th>Intercept</th> <td>   -0.0942</td> <td>    0.133</td> <td>   -0.710</td> <td> 0.483</td> <td>   -0.366</td> <td>    0.178</td>\n",
       "</tr>\n",
       "<tr>\n",
       "  <th>Salary</th>    <td> 2.104e-05</td> <td> 1.64e-06</td> <td>   12.792</td> <td> 0.000</td> <td> 1.77e-05</td> <td> 2.44e-05</td>\n",
       "</tr>\n",
       "</table>\n",
       "<table class=\"simpletable\">\n",
       "<tr>\n",
       "  <th>Omnibus:</th>       <td> 7.529</td> <th>  Durbin-Watson:     </th> <td>   0.461</td>\n",
       "</tr>\n",
       "<tr>\n",
       "  <th>Prob(Omnibus):</th> <td> 0.023</td> <th>  Jarque-Bera (JB):  </th> <td>   5.772</td>\n",
       "</tr>\n",
       "<tr>\n",
       "  <th>Skew:</th>          <td>-0.923</td> <th>  Prob(JB):          </th> <td>  0.0558</td>\n",
       "</tr>\n",
       "<tr>\n",
       "  <th>Kurtosis:</th>      <td> 4.099</td> <th>  Cond. No.          </th> <td>2.41e+05</td>\n",
       "</tr>\n",
       "</table><br/><br/>Notes:<br/>[1] Standard Errors assume that the covariance matrix of the errors is correctly specified.<br/>[2] The condition number is large, 2.41e+05. This might indicate that there are<br/>strong multicollinearity or other numerical problems."
      ],
      "text/plain": [
       "<class 'statsmodels.iolib.summary.Summary'>\n",
       "\"\"\"\n",
       "                               OLS Regression Results                              \n",
       "===================================================================================\n",
       "Dep. Variable:     np.log(YearsExperience)   R-squared:                       0.854\n",
       "Model:                                 OLS   Adj. R-squared:                  0.849\n",
       "Method:                      Least Squares   F-statistic:                     163.6\n",
       "Date:                     Tue, 17 Oct 2023   Prob (F-statistic):           3.25e-13\n",
       "Time:                             16:17:49   Log-Likelihood:                0.92814\n",
       "No. Observations:                       30   AIC:                             2.144\n",
       "Df Residuals:                           28   BIC:                             4.946\n",
       "Df Model:                                1                                         \n",
       "Covariance Type:                 nonrobust                                         \n",
       "==============================================================================\n",
       "                 coef    std err          t      P>|t|      [0.025      0.975]\n",
       "------------------------------------------------------------------------------\n",
       "Intercept     -0.0942      0.133     -0.710      0.483      -0.366       0.178\n",
       "Salary      2.104e-05   1.64e-06     12.792      0.000    1.77e-05    2.44e-05\n",
       "==============================================================================\n",
       "Omnibus:                        7.529   Durbin-Watson:                   0.461\n",
       "Prob(Omnibus):                  0.023   Jarque-Bera (JB):                5.772\n",
       "Skew:                          -0.923   Prob(JB):                       0.0558\n",
       "Kurtosis:                       4.099   Cond. No.                     2.41e+05\n",
       "==============================================================================\n",
       "\n",
       "Notes:\n",
       "[1] Standard Errors assume that the covariance matrix of the errors is correctly specified.\n",
       "[2] The condition number is large, 2.41e+05. This might indicate that there are\n",
       "strong multicollinearity or other numerical problems.\n",
       "\"\"\""
      ]
     },
     "execution_count": 23,
     "metadata": {},
     "output_type": "execute_result"
    }
   ],
   "source": [
    "\n",
    "model3=smf.ols('np.log(YearsExperience)~Salary',data=df).fit()\n",
    "model3.params\n",
    "model3.summary()"
   ]
  },
  {
   "cell_type": "code",
   "execution_count": 24,
   "id": "e77c9148",
   "metadata": {
    "ExecuteTime": {
     "end_time": "2023-10-17T10:47:49.702172Z",
     "start_time": "2023-10-17T10:47:49.452009Z"
    }
   },
   "outputs": [
    {
     "data": {
      "text/plain": [
       "0     0.733613\n",
       "1     0.877997\n",
       "2     0.699694\n",
       "3     0.821607\n",
       "4     0.745143\n",
       "5     1.097602\n",
       "6     1.171414\n",
       "7     1.051375\n",
       "8     1.261786\n",
       "9     1.109112\n",
       "10    1.235969\n",
       "11    1.079760\n",
       "12    1.104230\n",
       "13    1.106839\n",
       "14    1.191635\n",
       "15    1.335282\n",
       "16    1.295115\n",
       "17    1.654055\n",
       "18    1.617759\n",
       "19    1.882393\n",
       "20    1.836060\n",
       "21    1.973564\n",
       "22    2.037297\n",
       "23    2.300521\n",
       "24    2.208340\n",
       "25    2.127353\n",
       "26    2.366948\n",
       "27    2.275756\n",
       "28    2.481032\n",
       "29    2.470112\n",
       "dtype: float64"
      ]
     },
     "execution_count": 24,
     "metadata": {},
     "output_type": "execute_result"
    }
   ],
   "source": [
    "pred_log=model3.predict(pd.DataFrame(df['Salary']))\n",
    "pred_log\n"
   ]
  },
  {
   "cell_type": "code",
   "execution_count": 25,
   "id": "0e14770c",
   "metadata": {
    "ExecuteTime": {
     "end_time": "2023-10-17T10:47:49.889541Z",
     "start_time": "2023-10-17T10:47:49.702172Z"
    }
   },
   "outputs": [
    {
     "data": {
      "text/plain": [
       "0      2.082591\n",
       "1      2.406075\n",
       "2      2.013138\n",
       "3      2.274150\n",
       "4      2.106743\n",
       "5      2.996972\n",
       "6      3.226553\n",
       "7      2.861583\n",
       "8      3.531723\n",
       "9      3.031665\n",
       "10     3.441710\n",
       "11     2.943971\n",
       "12     3.016901\n",
       "13     3.024783\n",
       "14     3.292460\n",
       "15     3.801069\n",
       "16     3.651416\n",
       "17     5.228136\n",
       "18     5.041779\n",
       "19     6.569203\n",
       "20     6.271779\n",
       "21     7.196275\n",
       "22     7.669850\n",
       "23     9.979380\n",
       "24     9.100597\n",
       "25     8.392621\n",
       "26    10.664790\n",
       "27     9.735272\n",
       "28    11.953599\n",
       "29    11.823772\n",
       "dtype: float64"
      ]
     },
     "execution_count": 25,
     "metadata": {},
     "output_type": "execute_result"
    }
   ],
   "source": [
    "pred3=np.exp(pred_log)\n",
    "pred3"
   ]
  },
  {
   "cell_type": "code",
   "execution_count": 26,
   "id": "2df86c58",
   "metadata": {
    "ExecuteTime": {
     "end_time": "2023-10-17T10:47:50.108421Z",
     "start_time": "2023-10-17T10:47:49.889541Z"
    }
   },
   "outputs": [
    {
     "data": {
      "text/plain": [
       "0.8649536763615348"
      ]
     },
     "execution_count": 26,
     "metadata": {},
     "output_type": "execute_result"
    }
   ],
   "source": [
    "rmse_exp=np.sqrt(np.mean((np.array(df['YearsExperience'])-np.array(pred3))**2))\n",
    "rmse_exp"
   ]
  },
  {
   "cell_type": "code",
   "execution_count": 27,
   "id": "f951f6ea",
   "metadata": {
    "ExecuteTime": {
     "end_time": "2023-10-17T10:47:50.280987Z",
     "start_time": "2023-10-17T10:47:50.108421Z"
    }
   },
   "outputs": [
    {
     "data": {
      "text/plain": [
       "0.9783258476228631"
      ]
     },
     "execution_count": 27,
     "metadata": {},
     "output_type": "execute_result"
    }
   ],
   "source": [
    "pred3.corr(df.Salary)"
   ]
  },
  {
   "cell_type": "code",
   "execution_count": 28,
   "id": "0a655464",
   "metadata": {
    "ExecuteTime": {
     "end_time": "2023-10-17T10:47:50.530985Z",
     "start_time": "2023-10-17T10:47:50.280987Z"
    }
   },
   "outputs": [
    {
     "data": {
      "text/plain": [
       "[<matplotlib.lines.Line2D at 0x20bbcb90d90>]"
      ]
     },
     "execution_count": 28,
     "metadata": {},
     "output_type": "execute_result"
    },
    {
     "data": {
      "image/png": "[encoded data removed]",
      "text/plain": [
       "<Figure size 432x288 with 1 Axes>"
      ]
     },
     "metadata": {
      "needs_background": "light"
     },
     "output_type": "display_data"
    }
   ],
   "source": [
    "plt.scatter(x=df['Salary'],y=df['YearsExperience'],color='red')\n",
    "plt.plot(df.Salary,pred3,color='black')"
   ]
  },
  {
   "cell_type": "code",
   "execution_count": 29,
   "id": "2ba6eaef",
   "metadata": {
    "ExecuteTime": {
     "end_time": "2023-10-17T10:47:50.671666Z",
     "start_time": "2023-10-17T10:47:50.530985Z"
    }
   },
   "outputs": [
    {
     "data": {
      "text/plain": [
       "array([-2.62856286, -2.53520584, -1.21165179, -0.52900213,  0.1783699 ,\n",
       "       -0.13544939, -0.29980314,  0.46029816, -0.40618444,  0.82040237,\n",
       "        0.51478963,  1.26232636,  1.16155444,  1.25249551,  1.28665421,\n",
       "        1.0457908 ,  1.37594637,  0.05621983,  0.64733073, -0.37323186,\n",
       "        0.33299592, -0.05546522,  0.12175325, -0.80873095, -0.18538208,\n",
       "        0.28773542, -0.47627671, -0.05762179, -0.61313045, -0.48896426])"
      ]
     },
     "execution_count": 29,
     "metadata": {},
     "output_type": "execute_result"
    }
   ],
   "source": [
    "resid1=model3.resid_pearson\n",
    "resid1"
   ]
  },
  {
   "cell_type": "code",
   "execution_count": 30,
   "id": "ab7874bc",
   "metadata": {
    "ExecuteTime": {
     "end_time": "2023-10-17T10:47:51.046530Z",
     "start_time": "2023-10-17T10:47:50.671666Z"
    }
   },
   "outputs": [
    {
     "data": {
      "text/plain": [
       "Text(0, 0.5, 'Standardized Residual')"
      ]
     },
     "execution_count": 30,
     "metadata": {},
     "output_type": "execute_result"
    },
    {
     "data": {
      "image/png": "[encoded data removed]",
      "text/plain": [
       "<Figure size 432x288 with 1 Axes>"
      ]
     },
     "metadata": {
      "needs_background": "light"
     },
     "output_type": "display_data"
    }
   ],
   "source": [
    "plt.plot(model3.resid_pearson,'o')\n",
    "plt.axhline(y=0,color='green')\n",
    "plt.xlabel(\"Observation Number\")\n",
    "plt.ylabel(\"Standardized Residual\")"
   ]
  },
  {
   "cell_type": "code",
   "execution_count": 31,
   "id": "ece6b560",
   "metadata": {
    "ExecuteTime": {
     "end_time": "2023-10-17T10:47:51.265423Z",
     "start_time": "2023-10-17T10:47:51.046530Z"
    }
   },
   "outputs": [
    {
     "data": {
      "text/plain": [
       "Text(0, 0.5, 'Actual')"
      ]
     },
     "execution_count": 31,
     "metadata": {},
     "output_type": "execute_result"
    },
    {
     "data": {
      "image/png": "[encoded data removed]",
      "text/plain": [
       "<Figure size 432x288 with 1 Axes>"
      ]
     },
     "metadata": {
      "needs_background": "light"
     },
     "output_type": "display_data"
    }
   ],
   "source": [
    "plt.scatter(x=pred3,y=df.YearsExperience)\n",
    "plt.xlabel(\"Predicted\")\n",
    "plt.ylabel(\"Actual\")"
   ]
  },
  {
   "cell_type": "code",
   "execution_count": 32,
   "id": "2344fc77",
   "metadata": {
    "ExecuteTime": {
     "end_time": "2023-10-17T10:47:51.359099Z",
     "start_time": "2023-10-17T10:47:51.265423Z"
    }
   },
   "outputs": [
    {
     "data": {
      "text/html": [
       "<div>\n",
       "<style scoped>\n",
       "    .dataframe tbody tr th:only-of-type {\n",
       "        vertical-align: middle;\n",
       "    }\n",
       "\n",
       "    .dataframe tbody tr th {\n",
       "        vertical-align: top;\n",
       "    }\n",
       "\n",
       "    .dataframe thead th {\n",
       "        text-align: right;\n",
       "    }\n",
       "</style>\n",
       "<table border=\"1\" class=\"dataframe\">\n",
       "  <thead>\n",
       "    <tr style=\"text-align: right;\">\n",
       "      <th></th>\n",
       "      <th>YearsExperience</th>\n",
       "      <th>Salary</th>\n",
       "      <th>Salary_Sq</th>\n",
       "    </tr>\n",
       "  </thead>\n",
       "  <tbody>\n",
       "    <tr>\n",
       "      <th>0</th>\n",
       "      <td>1.1</td>\n",
       "      <td>39343.0</td>\n",
       "      <td>1.547872e+09</td>\n",
       "    </tr>\n",
       "    <tr>\n",
       "      <th>1</th>\n",
       "      <td>1.3</td>\n",
       "      <td>46205.0</td>\n",
       "      <td>2.134902e+09</td>\n",
       "    </tr>\n",
       "    <tr>\n",
       "      <th>2</th>\n",
       "      <td>1.5</td>\n",
       "      <td>37731.0</td>\n",
       "      <td>1.423628e+09</td>\n",
       "    </tr>\n",
       "    <tr>\n",
       "      <th>3</th>\n",
       "      <td>2.0</td>\n",
       "      <td>43525.0</td>\n",
       "      <td>1.894426e+09</td>\n",
       "    </tr>\n",
       "    <tr>\n",
       "      <th>4</th>\n",
       "      <td>2.2</td>\n",
       "      <td>39891.0</td>\n",
       "      <td>1.591292e+09</td>\n",
       "    </tr>\n",
       "    <tr>\n",
       "      <th>5</th>\n",
       "      <td>2.9</td>\n",
       "      <td>56642.0</td>\n",
       "      <td>3.208316e+09</td>\n",
       "    </tr>\n",
       "    <tr>\n",
       "      <th>6</th>\n",
       "      <td>3.0</td>\n",
       "      <td>60150.0</td>\n",
       "      <td>3.618022e+09</td>\n",
       "    </tr>\n",
       "    <tr>\n",
       "      <th>7</th>\n",
       "      <td>3.2</td>\n",
       "      <td>54445.0</td>\n",
       "      <td>2.964258e+09</td>\n",
       "    </tr>\n",
       "    <tr>\n",
       "      <th>8</th>\n",
       "      <td>3.2</td>\n",
       "      <td>64445.0</td>\n",
       "      <td>4.153158e+09</td>\n",
       "    </tr>\n",
       "    <tr>\n",
       "      <th>9</th>\n",
       "      <td>3.7</td>\n",
       "      <td>57189.0</td>\n",
       "      <td>3.270582e+09</td>\n",
       "    </tr>\n",
       "    <tr>\n",
       "      <th>10</th>\n",
       "      <td>3.9</td>\n",
       "      <td>63218.0</td>\n",
       "      <td>3.996516e+09</td>\n",
       "    </tr>\n",
       "    <tr>\n",
       "      <th>11</th>\n",
       "      <td>4.0</td>\n",
       "      <td>55794.0</td>\n",
       "      <td>3.112970e+09</td>\n",
       "    </tr>\n",
       "    <tr>\n",
       "      <th>12</th>\n",
       "      <td>4.0</td>\n",
       "      <td>56957.0</td>\n",
       "      <td>3.244100e+09</td>\n",
       "    </tr>\n",
       "    <tr>\n",
       "      <th>13</th>\n",
       "      <td>4.1</td>\n",
       "      <td>57081.0</td>\n",
       "      <td>3.258241e+09</td>\n",
       "    </tr>\n",
       "    <tr>\n",
       "      <th>14</th>\n",
       "      <td>4.5</td>\n",
       "      <td>61111.0</td>\n",
       "      <td>3.734554e+09</td>\n",
       "    </tr>\n",
       "    <tr>\n",
       "      <th>15</th>\n",
       "      <td>4.9</td>\n",
       "      <td>67938.0</td>\n",
       "      <td>4.615572e+09</td>\n",
       "    </tr>\n",
       "    <tr>\n",
       "      <th>16</th>\n",
       "      <td>5.1</td>\n",
       "      <td>66029.0</td>\n",
       "      <td>4.359829e+09</td>\n",
       "    </tr>\n",
       "    <tr>\n",
       "      <th>17</th>\n",
       "      <td>5.3</td>\n",
       "      <td>83088.0</td>\n",
       "      <td>6.903616e+09</td>\n",
       "    </tr>\n",
       "    <tr>\n",
       "      <th>18</th>\n",
       "      <td>5.9</td>\n",
       "      <td>81363.0</td>\n",
       "      <td>6.619938e+09</td>\n",
       "    </tr>\n",
       "    <tr>\n",
       "      <th>19</th>\n",
       "      <td>6.0</td>\n",
       "      <td>93940.0</td>\n",
       "      <td>8.824724e+09</td>\n",
       "    </tr>\n",
       "    <tr>\n",
       "      <th>20</th>\n",
       "      <td>6.8</td>\n",
       "      <td>91738.0</td>\n",
       "      <td>8.415861e+09</td>\n",
       "    </tr>\n",
       "    <tr>\n",
       "      <th>21</th>\n",
       "      <td>7.1</td>\n",
       "      <td>98273.0</td>\n",
       "      <td>9.657583e+09</td>\n",
       "    </tr>\n",
       "    <tr>\n",
       "      <th>22</th>\n",
       "      <td>7.9</td>\n",
       "      <td>101302.0</td>\n",
       "      <td>1.026210e+10</td>\n",
       "    </tr>\n",
       "    <tr>\n",
       "      <th>23</th>\n",
       "      <td>8.2</td>\n",
       "      <td>113812.0</td>\n",
       "      <td>1.295317e+10</td>\n",
       "    </tr>\n",
       "    <tr>\n",
       "      <th>24</th>\n",
       "      <td>8.7</td>\n",
       "      <td>109431.0</td>\n",
       "      <td>1.197514e+10</td>\n",
       "    </tr>\n",
       "    <tr>\n",
       "      <th>25</th>\n",
       "      <td>9.0</td>\n",
       "      <td>105582.0</td>\n",
       "      <td>1.114756e+10</td>\n",
       "    </tr>\n",
       "    <tr>\n",
       "      <th>26</th>\n",
       "      <td>9.5</td>\n",
       "      <td>116969.0</td>\n",
       "      <td>1.368175e+10</td>\n",
       "    </tr>\n",
       "    <tr>\n",
       "      <th>27</th>\n",
       "      <td>9.6</td>\n",
       "      <td>112635.0</td>\n",
       "      <td>1.268664e+10</td>\n",
       "    </tr>\n",
       "    <tr>\n",
       "      <th>28</th>\n",
       "      <td>10.3</td>\n",
       "      <td>122391.0</td>\n",
       "      <td>1.497956e+10</td>\n",
       "    </tr>\n",
       "    <tr>\n",
       "      <th>29</th>\n",
       "      <td>10.5</td>\n",
       "      <td>121872.0</td>\n",
       "      <td>1.485278e+10</td>\n",
       "    </tr>\n",
       "  </tbody>\n",
       "</table>\n",
       "</div>"
      ],
      "text/plain": [
       "    YearsExperience    Salary     Salary_Sq\n",
       "0               1.1   39343.0  1.547872e+09\n",
       "1               1.3   46205.0  2.134902e+09\n",
       "2               1.5   37731.0  1.423628e+09\n",
       "3               2.0   43525.0  1.894426e+09\n",
       "4               2.2   39891.0  1.591292e+09\n",
       "5               2.9   56642.0  3.208316e+09\n",
       "6               3.0   60150.0  3.618022e+09\n",
       "7               3.2   54445.0  2.964258e+09\n",
       "8               3.2   64445.0  4.153158e+09\n",
       "9               3.7   57189.0  3.270582e+09\n",
       "10              3.9   63218.0  3.996516e+09\n",
       "11              4.0   55794.0  3.112970e+09\n",
       "12              4.0   56957.0  3.244100e+09\n",
       "13              4.1   57081.0  3.258241e+09\n",
       "14              4.5   61111.0  3.734554e+09\n",
       "15              4.9   67938.0  4.615572e+09\n",
       "16              5.1   66029.0  4.359829e+09\n",
       "17              5.3   83088.0  6.903616e+09\n",
       "18              5.9   81363.0  6.619938e+09\n",
       "19              6.0   93940.0  8.824724e+09\n",
       "20              6.8   91738.0  8.415861e+09\n",
       "21              7.1   98273.0  9.657583e+09\n",
       "22              7.9  101302.0  1.026210e+10\n",
       "23              8.2  113812.0  1.295317e+10\n",
       "24              8.7  109431.0  1.197514e+10\n",
       "25              9.0  105582.0  1.114756e+10\n",
       "26              9.5  116969.0  1.368175e+10\n",
       "27              9.6  112635.0  1.268664e+10\n",
       "28             10.3  122391.0  1.497956e+10\n",
       "29             10.5  121872.0  1.485278e+10"
      ]
     },
     "execution_count": 32,
     "metadata": {},
     "output_type": "execute_result"
    }
   ],
   "source": [
    "df['Salary_Sq']=df.Salary*df.Salary\n",
    "df"
   ]
  },
  {
   "cell_type": "code",
   "execution_count": 33,
   "id": "bacb4256",
   "metadata": {
    "ExecuteTime": {
     "end_time": "2023-10-17T10:47:51.624793Z",
     "start_time": "2023-10-17T10:47:51.359099Z"
    }
   },
   "outputs": [
    {
     "data": {
      "text/html": [
       "<table class=\"simpletable\">\n",
       "<caption>OLS Regression Results</caption>\n",
       "<tr>\n",
       "  <th>Dep. Variable:</th>    <td>np.log(YearsExperience)</td> <th>  R-squared:         </th> <td>   0.907</td>\n",
       "</tr>\n",
       "<tr>\n",
       "  <th>Model:</th>                      <td>OLS</td>           <th>  Adj. R-squared:    </th> <td>   0.901</td>\n",
       "</tr>\n",
       "<tr>\n",
       "  <th>Method:</th>                <td>Least Squares</td>      <th>  F-statistic:       </th> <td>   132.3</td>\n",
       "</tr>\n",
       "<tr>\n",
       "  <th>Date:</th>                <td>Tue, 17 Oct 2023</td>     <th>  Prob (F-statistic):</th> <td>1.12e-14</td>\n",
       "</tr>\n",
       "<tr>\n",
       "  <th>Time:</th>                    <td>16:17:51</td>         <th>  Log-Likelihood:    </th> <td>  7.7666</td>\n",
       "</tr>\n",
       "<tr>\n",
       "  <th>No. Observations:</th>         <td>    30</td>          <th>  AIC:               </th> <td>  -9.533</td>\n",
       "</tr>\n",
       "<tr>\n",
       "  <th>Df Residuals:</th>             <td>    27</td>          <th>  BIC:               </th> <td>  -5.330</td>\n",
       "</tr>\n",
       "<tr>\n",
       "  <th>Df Model:</th>                 <td>     2</td>          <th>                     </th>     <td> </td>   \n",
       "</tr>\n",
       "<tr>\n",
       "  <th>Covariance Type:</th>         <td>nonrobust</td>        <th>                     </th>     <td> </td>   \n",
       "</tr>\n",
       "</table>\n",
       "<table class=\"simpletable\">\n",
       "<tr>\n",
       "      <td></td>         <th>coef</th>     <th>std err</th>      <th>t</th>      <th>P>|t|</th>  <th>[0.025</th>    <th>0.975]</th>  \n",
       "</tr>\n",
       "<tr>\n",
       "  <th>Intercept</th> <td>   -1.5369</td> <td>    0.381</td> <td>   -4.036</td> <td> 0.000</td> <td>   -2.318</td> <td>   -0.755</td>\n",
       "</tr>\n",
       "<tr>\n",
       "  <th>Salary</th>    <td> 6.153e-05</td> <td> 1.03e-05</td> <td>    5.951</td> <td> 0.000</td> <td> 4.03e-05</td> <td> 8.27e-05</td>\n",
       "</tr>\n",
       "<tr>\n",
       "  <th>Salary_Sq</th> <td>-2.514e-10</td> <td> 6.37e-11</td> <td>   -3.949</td> <td> 0.001</td> <td>-3.82e-10</td> <td>-1.21e-10</td>\n",
       "</tr>\n",
       "</table>\n",
       "<table class=\"simpletable\">\n",
       "<tr>\n",
       "  <th>Omnibus:</th>       <td> 3.765</td> <th>  Durbin-Watson:     </th> <td>   1.047</td>\n",
       "</tr>\n",
       "<tr>\n",
       "  <th>Prob(Omnibus):</th> <td> 0.152</td> <th>  Jarque-Bera (JB):  </th> <td>   2.504</td>\n",
       "</tr>\n",
       "<tr>\n",
       "  <th>Skew:</th>          <td>-0.687</td> <th>  Prob(JB):          </th> <td>   0.286</td>\n",
       "</tr>\n",
       "<tr>\n",
       "  <th>Kurtosis:</th>      <td> 3.340</td> <th>  Cond. No.          </th> <td>8.31e+10</td>\n",
       "</tr>\n",
       "</table><br/><br/>Notes:<br/>[1] Standard Errors assume that the covariance matrix of the errors is correctly specified.<br/>[2] The condition number is large, 8.31e+10. This might indicate that there are<br/>strong multicollinearity or other numerical problems."
      ],
      "text/plain": [
       "<class 'statsmodels.iolib.summary.Summary'>\n",
       "\"\"\"\n",
       "                               OLS Regression Results                              \n",
       "===================================================================================\n",
       "Dep. Variable:     np.log(YearsExperience)   R-squared:                       0.907\n",
       "Model:                                 OLS   Adj. R-squared:                  0.901\n",
       "Method:                      Least Squares   F-statistic:                     132.3\n",
       "Date:                     Tue, 17 Oct 2023   Prob (F-statistic):           1.12e-14\n",
       "Time:                             16:17:51   Log-Likelihood:                 7.7666\n",
       "No. Observations:                       30   AIC:                            -9.533\n",
       "Df Residuals:                           27   BIC:                            -5.330\n",
       "Df Model:                                2                                         \n",
       "Covariance Type:                 nonrobust                                         \n",
       "==============================================================================\n",
       "                 coef    std err          t      P>|t|      [0.025      0.975]\n",
       "------------------------------------------------------------------------------\n",
       "Intercept     -1.5369      0.381     -4.036      0.000      -2.318      -0.755\n",
       "Salary      6.153e-05   1.03e-05      5.951      0.000    4.03e-05    8.27e-05\n",
       "Salary_Sq  -2.514e-10   6.37e-11     -3.949      0.001   -3.82e-10   -1.21e-10\n",
       "==============================================================================\n",
       "Omnibus:                        3.765   Durbin-Watson:                   1.047\n",
       "Prob(Omnibus):                  0.152   Jarque-Bera (JB):                2.504\n",
       "Skew:                          -0.687   Prob(JB):                        0.286\n",
       "Kurtosis:                       3.340   Cond. No.                     8.31e+10\n",
       "==============================================================================\n",
       "\n",
       "Notes:\n",
       "[1] Standard Errors assume that the covariance matrix of the errors is correctly specified.\n",
       "[2] The condition number is large, 8.31e+10. This might indicate that there are\n",
       "strong multicollinearity or other numerical problems.\n",
       "\"\"\""
      ]
     },
     "execution_count": 33,
     "metadata": {},
     "output_type": "execute_result"
    }
   ],
   "source": [
    "#model4\n",
    "model_quad=smf.ols(\"np.log(YearsExperience)~Salary+Salary_Sq\",data=df).fit()\n",
    "model_quad.summary()"
   ]
  },
  {
   "cell_type": "code",
   "execution_count": 34,
   "id": "dfcb993e",
   "metadata": {
    "ExecuteTime": {
     "end_time": "2023-10-17T10:47:51.734102Z",
     "start_time": "2023-10-17T10:47:51.624793Z"
    }
   },
   "outputs": [
    {
     "data": {
      "text/plain": [
       "0     1.640306\n",
       "1     2.158776\n",
       "2     1.532540\n",
       "3     1.944664\n",
       "4     1.678141\n",
       "5     3.132728\n",
       "6     3.507003\n",
       "7     2.909766\n",
       "8     3.992882\n",
       "9     3.189644\n",
       "10    3.851228\n",
       "11    3.045589\n",
       "12    3.165437\n",
       "13    3.178363\n",
       "14    3.613219\n",
       "15    4.407015\n",
       "16    4.178802\n",
       "17    6.297870\n",
       "18    6.082301\n",
       "19    7.576149\n",
       "20    7.332354\n",
       "21    8.022489\n",
       "22    8.303352\n",
       "23    9.114878\n",
       "24    8.901371\n",
       "25    8.648772\n",
       "26    9.216598\n",
       "27    9.065610\n",
       "28    9.284743\n",
       "29    9.284136\n",
       "dtype: float64"
      ]
     },
     "execution_count": 34,
     "metadata": {},
     "output_type": "execute_result"
    }
   ],
   "source": [
    "pred_quad=model_quad.predict(df)\n",
    "pred4=np.exp(pred_quad)\n",
    "pred4"
   ]
  },
  {
   "cell_type": "code",
   "execution_count": 35,
   "id": "3b590f6f",
   "metadata": {
    "ExecuteTime": {
     "end_time": "2023-10-17T10:47:51.905901Z",
     "start_time": "2023-10-17T10:47:51.734102Z"
    }
   },
   "outputs": [
    {
     "data": {
      "text/plain": [
       "0.7214302704516456"
      ]
     },
     "execution_count": 35,
     "metadata": {},
     "output_type": "execute_result"
    }
   ],
   "source": [
    "rmse_quad=np.sqrt(np.mean((np.array(df['YearsExperience'])-np.array(pred4))**2))\n",
    "rmse_quad"
   ]
  },
  {
   "cell_type": "code",
   "execution_count": 36,
   "id": "8f00904e",
   "metadata": {
    "ExecuteTime": {
     "end_time": "2023-10-17T10:47:52.171668Z",
     "start_time": "2023-10-17T10:47:51.905901Z"
    }
   },
   "outputs": [
    {
     "data": {
      "text/plain": [
       "[<matplotlib.lines.Line2D at 0x20bbdcc73a0>]"
      ]
     },
     "execution_count": 36,
     "metadata": {},
     "output_type": "execute_result"
    },
    {
     "data": {
      "image/png": "[encoded data removed]",
      "text/plain": [
       "<Figure size 432x288 with 1 Axes>"
      ]
     },
     "metadata": {
      "needs_background": "light"
     },
     "output_type": "display_data"
    }
   ],
   "source": [
    "plt.scatter(df.Salary,df.YearsExperience,color='black')\n",
    "plt.plot(df.Salary,pred4,color='red')"
   ]
  },
  {
   "cell_type": "code",
   "execution_count": 37,
   "id": "2a3edf37",
   "metadata": {
    "ExecuteTime": {
     "end_time": "2023-10-17T10:47:52.374750Z",
     "start_time": "2023-10-17T10:47:52.171668Z"
    }
   },
   "outputs": [
    {
     "data": {
      "text/plain": [
       "Text(0, 0.5, 'Standardized Residual')"
      ]
     },
     "execution_count": 37,
     "metadata": {},
     "output_type": "execute_result"
    },
    {
     "data": {
      "image/png": "[encoded data removed]",
      "text/plain": [
       "<Figure size 432x288 with 1 Axes>"
      ]
     },
     "metadata": {
      "needs_background": "light"
     },
     "output_type": "display_data"
    }
   ],
   "source": [
    "plt.scatter(np.arange(30),model_quad.resid_pearson)\n",
    "plt.axhline(y=0,color='orange')\n",
    "plt.xlabel(\"Observation Number\")\n",
    "plt.ylabel(\"Standardized Residual\")\n"
   ]
  },
  {
   "cell_type": "code",
   "execution_count": 38,
   "id": "76b19d49",
   "metadata": {
    "ExecuteTime": {
     "end_time": "2023-10-17T10:47:52.546645Z",
     "start_time": "2023-10-17T10:47:52.374750Z"
    }
   },
   "outputs": [
    {
     "data": {
      "text/html": [
       "<div>\n",
       "<style scoped>\n",
       "    .dataframe tbody tr th:only-of-type {\n",
       "        vertical-align: middle;\n",
       "    }\n",
       "\n",
       "    .dataframe tbody tr th {\n",
       "        vertical-align: top;\n",
       "    }\n",
       "\n",
       "    .dataframe thead th {\n",
       "        text-align: right;\n",
       "    }\n",
       "</style>\n",
       "<table border=\"1\" class=\"dataframe\">\n",
       "  <thead>\n",
       "    <tr style=\"text-align: right;\">\n",
       "      <th></th>\n",
       "      <th>MODEL</th>\n",
       "      <th>RMSE_Values</th>\n",
       "      <th>Rsquare</th>\n",
       "    </tr>\n",
       "  </thead>\n",
       "  <tbody>\n",
       "    <tr>\n",
       "      <th>0</th>\n",
       "      <td>rmse_lin</td>\n",
       "      <td>0.578877</td>\n",
       "      <td>0.956957</td>\n",
       "    </tr>\n",
       "    <tr>\n",
       "      <th>1</th>\n",
       "      <td>rmse_log</td>\n",
       "      <td>0.727768</td>\n",
       "      <td>0.931967</td>\n",
       "    </tr>\n",
       "    <tr>\n",
       "      <th>2</th>\n",
       "      <td>rmse_exp</td>\n",
       "      <td>0.864954</td>\n",
       "      <td>0.853889</td>\n",
       "    </tr>\n",
       "    <tr>\n",
       "      <th>3</th>\n",
       "      <td>rmse_quad</td>\n",
       "      <td>0.721430</td>\n",
       "      <td>0.907383</td>\n",
       "    </tr>\n",
       "  </tbody>\n",
       "</table>\n",
       "</div>"
      ],
      "text/plain": [
       "       MODEL  RMSE_Values   Rsquare\n",
       "0   rmse_lin     0.578877  0.956957\n",
       "1   rmse_log     0.727768  0.931967\n",
       "2   rmse_exp     0.864954  0.853889\n",
       "3  rmse_quad     0.721430  0.907383"
      ]
     },
     "execution_count": 38,
     "metadata": {},
     "output_type": "execute_result"
    }
   ],
   "source": [
    "data={'MODEL':pd.Series([\"rmse_lin\",\"rmse_log\",\"rmse_exp\",\"rmse_quad\"]),\n",
    "      \"RMSE_Values\":pd.Series([rmse_lin,rmse_log,rmse_exp,rmse_quad]),\n",
    "      \"Rsquare\":pd.Series([model.rsquared,model2.rsquared,model3.rsquared,model_quad.rsquared])}\n",
    "table=pd.DataFrame(data)\n",
    "table"
   ]
  },
  {
   "cell_type": "code",
   "execution_count": 39,
   "id": "ebde1684",
   "metadata": {
    "ExecuteTime": {
     "end_time": "2023-10-17T10:47:52.843503Z",
     "start_time": "2023-10-17T10:47:52.546645Z"
    }
   },
   "outputs": [
    {
     "data": {
      "text/plain": [
       "[<matplotlib.lines.Line2D at 0x20bbdd98fd0>]"
      ]
     },
     "execution_count": 39,
     "metadata": {},
     "output_type": "execute_result"
    },
    {
     "data": {
      "image/png": "[encoded data removed]",
      "text/plain": [
       "<Figure size 640x480 with 1 Axes>"
      ]
     },
     "metadata": {},
     "output_type": "display_data"
    }
   ],
   "source": [
    "import matplotlib.pyplot as plt\n",
    "plt.style.use('classic')\n",
    "plt.scatter(df.Salary,df.YearsExperience,c='b')\n",
    "plt.plot(df.Salary,pred4,\"pink\")"
   ]
  },
  {
   "cell_type": "code",
   "execution_count": 40,
   "id": "84e58e66",
   "metadata": {
    "ExecuteTime": {
     "end_time": "2023-10-17T10:47:52.952924Z",
     "start_time": "2023-10-17T10:47:52.843503Z"
    }
   },
   "outputs": [],
   "source": [
    "#t and p-values"
   ]
  },
  {
   "cell_type": "code",
   "execution_count": 41,
   "id": "7382f6a2",
   "metadata": {
    "ExecuteTime": {
     "end_time": "2023-10-17T10:47:53.171849Z",
     "start_time": "2023-10-17T10:47:52.952924Z"
    }
   },
   "outputs": [
    {
     "name": "stdout",
     "output_type": "stream",
     "text": [
      "Intercept    -7.281283\n",
      "Salary       24.950094\n",
      "dtype: float64 \n",
      " Intercept    6.300123e-08\n",
      "Salary       1.143068e-20\n",
      "dtype: float64\n"
     ]
    }
   ],
   "source": [
    "print(model.tvalues,'\\n',model.pvalues)"
   ]
  },
  {
   "cell_type": "code",
   "execution_count": 42,
   "id": "96663059",
   "metadata": {
    "ExecuteTime": {
     "end_time": "2023-10-17T10:47:53.343643Z",
     "start_time": "2023-10-17T10:47:53.171849Z"
    }
   },
   "outputs": [
    {
     "data": {
      "text/plain": [
       "(0.9569566641435086, 0.9554194021486339)"
      ]
     },
     "execution_count": 42,
     "metadata": {},
     "output_type": "execute_result"
    }
   ],
   "source": [
    "#R squared values\n",
    "(model.rsquared,model.rsquared_adj)"
   ]
  },
  {
   "cell_type": "code",
   "execution_count": null,
   "id": "bd378cdd",
   "metadata": {},
   "outputs": [],
   "source": []
  }
 ],
 "metadata": {
  "kernelspec": {
   "display_name": "Python 3 (ipykernel)",
   "language": "python",
   "name": "python3"
  },
  "language_info": {
   "codemirror_mode": {
    "name": "ipython",
    "version": 3
   },
   "file_extension": ".py",
   "mimetype": "text/x-python",
   "name": "python",
   "nbconvert_exporter": "python",
   "pygments_lexer": "ipython3",
   "version": "3.9.7"
  }
 },
 "nbformat": 4,
 "nbformat_minor": 5
}
